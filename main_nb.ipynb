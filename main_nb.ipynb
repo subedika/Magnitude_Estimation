{
 "cells": [
  {
   "cell_type": "code",
   "execution_count": null,
   "id": "7e1e7665",
   "metadata": {},
   "outputs": [],
   "source": [
    "!pip install tensorflow==2.9"
   ]
  },
  {
   "cell_type": "code",
   "execution_count": 1,
   "id": "ebcfbb4a",
   "metadata": {},
   "outputs": [
    {
     "name": "stdout",
     "output_type": "stream",
     "text": [
      "Requirement already satisfied: pyyaml in c:\\users\\subed\\anaconda\\lib\\site-packages (6.0)\n"
     ]
    }
   ],
   "source": [
    "!pip install pyyaml"
   ]
  },
  {
   "cell_type": "code",
   "execution_count": null,
   "id": "7e6f1bde",
   "metadata": {},
   "outputs": [],
   "source": [
    "!pip install plotly\n",
    "!pip install seaborn"
   ]
  },
  {
   "cell_type": "code",
   "execution_count": null,
   "id": "05cd42e7",
   "metadata": {},
   "outputs": [],
   "source": [
    "!pip install h5py"
   ]
  },
  {
   "cell_type": "code",
   "execution_count": 3,
   "id": "fc4ff7aa",
   "metadata": {},
   "outputs": [],
   "source": [
    "import pandas as pd\n",
    "import h5py\n",
    "import plotly\n",
    "#import pyyaml\n",
    "import plotly.express as px\n",
    "import matplotlib.pyplot as plt\n",
    "from plotly.subplots import make_subplots\n",
    "import plotly.graph_objects as go\n",
    "import seaborn as sns\n",
    "import os\n",
    "import numpy as np\n",
    "import timeit\n",
    "import time\n",
    "import tensorflow as tf\n",
    "import tensorflow.keras\n",
    "import pickle as pkl\n",
    "from tensorflow.keras.layers import LSTM, Bidirectional\n",
    "from tensorflow.keras.models import Sequential\n",
    "from tensorflow.keras.layers import BatchNormalization\n",
    "from tensorflow.keras.layers import Conv2D, Conv1D, MaxPooling1D\n",
    "from tensorflow.keras.layers import MaxPooling2D\n",
    "from tensorflow.keras.layers import Activation\n",
    "from tensorflow.keras.layers import Dropout\n",
    "from tensorflow.keras.layers import Dense\n",
    "from tensorflow.keras.layers import Flatten\n",
    "from tensorflow.keras.layers import Input\n",
    "from tensorflow.keras.layers import Attention\n",
    "from tensorflow.keras.models import Model\n",
    "from tensorflow.keras import backend as K\n",
    "#import tensorflow_probability as tfp\n",
    "#from tensorflow.keras import mixed_precision\n",
    "from tensorflow.keras.callbacks import ReduceLROnPlateau\n",
    "from tensorflow.keras.optimizers import Adam\n",
    "#tf.compat.v1.disable_eager_execution()\n",
    "np.set_printoptions(suppress=True)"
   ]
  },
  {
   "cell_type": "code",
   "execution_count": 4,
   "id": "d33eb381",
   "metadata": {},
   "outputs": [
    {
     "name": "stdout",
     "output_type": "stream",
     "text": [
      "2.9.0\n"
     ]
    }
   ],
   "source": [
    "print(tf.__version__)"
   ]
  },
  {
   "cell_type": "code",
   "execution_count": 5,
   "id": "e647b8e6",
   "metadata": {},
   "outputs": [
    {
     "name": "stdout",
     "output_type": "stream",
     "text": [
      "GPU 0: NVIDIA GeForce GTX 1050 (UUID: GPU-1b218410-060e-09cf-ec81-9b128fe198d4)\n"
     ]
    }
   ],
   "source": [
    "!nvidia-smi -L"
   ]
  },
  {
   "cell_type": "code",
   "execution_count": 6,
   "id": "10f851e5",
   "metadata": {},
   "outputs": [],
   "source": [
    "# Run script for processing events metadata #\n",
    "\n",
    "%run metadata_proc.py"
   ]
  },
  {
   "cell_type": "code",
   "execution_count": 7,
   "id": "bed5950a",
   "metadata": {},
   "outputs": [
    {
     "name": "stderr",
     "output_type": "stream",
     "text": [
      "C:\\Users\\subed\\AppData\\Local\\Temp/ipykernel_18648/2312846333.py:13: DtypeWarning: Columns (21) have mixed types.Specify dtype option on import or set low_memory=False.\n",
      "  d1, len1 = mda_proc(data1)\n",
      "C:\\Users\\subed\\AppData\\Local\\Temp/ipykernel_18648/2312846333.py:14: DtypeWarning: Columns (21) have mixed types.Specify dtype option on import or set low_memory=False.\n",
      "  d2, len2 = mda_proc(data2)\n",
      "C:\\Users\\subed\\AppData\\Local\\Temp/ipykernel_18648/2312846333.py:15: DtypeWarning: Columns (21) have mixed types.Specify dtype option on import or set low_memory=False.\n",
      "  d3, len3 = mda_proc(data3)\n",
      "C:\\Users\\subed\\AppData\\Local\\Temp/ipykernel_18648/2312846333.py:16: DtypeWarning: Columns (21) have mixed types.Specify dtype option on import or set low_memory=False.\n",
      "  d4, len4 = mda_proc(data4)\n"
     ]
    },
    {
     "name": "stdout",
     "output_type": "stream",
     "text": [
      "Index(['network_code', 'receiver_code', 'receiver_type', 'receiver_latitude',\n",
      "       'receiver_longitude', 'receiver_elevation_m', 'p_arrival_sample',\n",
      "       'p_status', 'p_weight', 'p_travel_sec', 's_arrival_sample', 's_status',\n",
      "       's_weight', 'source_id', 'source_origin_time',\n",
      "       'source_origin_uncertainty_sec', 'source_latitude', 'source_longitude',\n",
      "       'source_error_sec', 'source_gap_deg',\n",
      "       'source_horizontal_uncertainty_km', 'source_depth_km',\n",
      "       'source_depth_uncertainty_km', 'source_magnitude',\n",
      "       'source_magnitude_type', 'source_magnitude_author',\n",
      "       'source_mechanism_strike_dip_rake', 'source_distance_deg',\n",
      "       'source_distance_km', 'back_azimuth_deg', 'snr_db', 'coda_end_sample',\n",
      "       'trace_start_time', 'trace_category', 'trace_name'],\n",
      "      dtype='object')\n"
     ]
    }
   ],
   "source": [
    "# Read and load metadata #\n",
    "\n",
    "p = 'C:/Users/subed/Desktop/Research/Project_freq_domain/Codes/Stanford_Dataset'\n",
    "data1 = p + '/ch2/chunk2.csv'\n",
    "wave1 = p + '/ch2/chunk2.hdf5'\n",
    "data2 = p + '/ch3/chunk3.csv'\n",
    "wave2 = p + '/ch3/chunk3.hdf5'\n",
    "data3 = p + '/ch5/chunk5.csv'\n",
    "wave3 = p + '/ch5/chunk5.hdf5'\n",
    "data4 = p + '/ch6/chunk6.csv'\n",
    "wave4 = p + '/ch6/chunk6.hdf5'\n",
    "\n",
    "d1, len1 = mda_proc(data1)\n",
    "d2, len2 = mda_proc(data2)\n",
    "d3, len3 = mda_proc(data3)\n",
    "d4, len4 = mda_proc(data4)\n",
    "\n",
    "print(d1.columns)"
   ]
  },
  {
   "cell_type": "code",
   "execution_count": 8,
   "id": "63172f5e",
   "metadata": {},
   "outputs": [],
   "source": [
    "# Merge pandas columns\n",
    "\n",
    "m1 = d1[['source_magnitude']].to_numpy()\n",
    "m2 = d2[['source_magnitude']].to_numpy()\n",
    "m3 = d3[['source_magnitude']].to_numpy()\n",
    "m4 = d4[['source_magnitude']].to_numpy()\n",
    "\n",
    "mag = np.concatenate((m1,m2,m3,m4))\n",
    "\n",
    "dp1 = d1[['source_depth_km']].to_numpy()\n",
    "dp2 = d2[['source_depth_km']].to_numpy()\n",
    "dp3 = d3[['source_depth_km']].to_numpy()\n",
    "dp4 = d4[['source_depth_km']].to_numpy()\n",
    "\n",
    "depth = np.concatenate((dp1,dp2,dp3,dp4))\n",
    "\n",
    "az1 = d1[['back_azimuth_deg']].to_numpy()\n",
    "az2 = d2[['back_azimuth_deg']].to_numpy()\n",
    "az3 = d3[['back_azimuth_deg']].to_numpy()\n",
    "az4 = d4[['back_azimuth_deg']].to_numpy()\n",
    "\n",
    "azimuth = np.concatenate((az1,az2,az3,az4))\n",
    "\n",
    "sn1 = d1[['snr_db']].to_numpy()\n",
    "sn2 = d2[['snr_db']].to_numpy()\n",
    "sn3 = d3[['snr_db']].to_numpy()\n",
    "sn4 = d4[['snr_db']].to_numpy()\n",
    "\n",
    "snratio = np.concatenate((sn1,sn2,sn3,sn4)) "
   ]
  },
  {
   "cell_type": "code",
   "execution_count": 9,
   "id": "f582db9a",
   "metadata": {},
   "outputs": [],
   "source": [
    "%run plots.py"
   ]
  },
  {
   "cell_type": "code",
   "execution_count": null,
   "id": "3153ab4b",
   "metadata": {},
   "outputs": [],
   "source": [
    "# Plot some metadata --> source_magnitude, source_depth_km, back_azimuth_deg, snr_db\n",
    "\n",
    "mag_plot(mag)"
   ]
  },
  {
   "cell_type": "code",
   "execution_count": null,
   "id": "3a9551c4",
   "metadata": {},
   "outputs": [],
   "source": [
    "snr_plot(snratio)"
   ]
  },
  {
   "cell_type": "code",
   "execution_count": null,
   "id": "e1c25f46",
   "metadata": {},
   "outputs": [],
   "source": [
    "azimuth_plot(azimuth)"
   ]
  },
  {
   "cell_type": "code",
   "execution_count": null,
   "id": "2e2e5c83",
   "metadata": {},
   "outputs": [],
   "source": [
    "depth_float = depth.astype(np.float)\n",
    "print(depth[0:5])\n",
    "print(depth_float[0:5])"
   ]
  },
  {
   "cell_type": "code",
   "execution_count": null,
   "id": "46899344",
   "metadata": {},
   "outputs": [],
   "source": [
    "depth_int = depth_float.astype(int)"
   ]
  },
  {
   "cell_type": "code",
   "execution_count": null,
   "id": "4b6e5c82",
   "metadata": {},
   "outputs": [],
   "source": [
    "np.histogram(depth_float)"
   ]
  },
  {
   "cell_type": "code",
   "execution_count": 10,
   "id": "664e45be",
   "metadata": {},
   "outputs": [],
   "source": [
    "def wave_proc(dt, w):\n",
    "    ev = dt['trace_name'].to_list()\n",
    "    x = np.zeros((len(dt),6000,3),np.float32)\n",
    "    y = np.zeros((len(dt),1),np.float32)\n",
    "\n",
    "    dtf = h5py.File(w,'r')\n",
    "\n",
    "    for c, evi in enumerate(ev):\n",
    "        eg = dtf.get('data/'+str(evi))\n",
    "        data = np.array(eg)\n",
    "        mag = round(float(eg.attrs['source_magnitude']),2)    \n",
    "        psamp = int(eg.attrs['p_arrival_sample'])\n",
    "        ssamp = int(eg.attrs['s_arrival_sample'])\n",
    "        BAZ = round(float(eg.attrs['back_azimuth_deg']), 2)\n",
    "        dpt = eg.attrs['source_depth_km']\n",
    "        dis = round(float(eg.attrs['source_distance_deg']), 2)\n",
    "        SNR = eg.attrs['snr_db']\n",
    "    #dshort = data[psamp-100:psamp+2900,:]\n",
    "        x[c,:,:] = data\n",
    "        y[c,0] = mag\n",
    "    \n",
    "    dtf.close()\n",
    "    return x, y, x.shape, y.shape\n"
   ]
  },
  {
   "cell_type": "code",
   "execution_count": 11,
   "id": "a2d1dffe",
   "metadata": {},
   "outputs": [
    {
     "name": "stdout",
     "output_type": "stream",
     "text": [
      "(416, 6000, 3) (416, 1)\n"
     ]
    }
   ],
   "source": [
    "# Get waveforms of respective sets\n",
    "\n",
    "w1, m1, wlen, mlen = wave_proc(d1,wave1)\n",
    "w2, m2, wlen2, mlen2 = wave_proc(d2,wave2)\n",
    "w3, m3, wlen3, mlen3 = wave_proc(d3,wave3)\n",
    "w4, m4, wlen4, mlen4 = wave_proc(d4,wave4)\n",
    "\n",
    "print(wlen, mlen)"
   ]
  },
  {
   "cell_type": "code",
   "execution_count": 12,
   "id": "2c6d9c21",
   "metadata": {},
   "outputs": [
    {
     "name": "stdout",
     "output_type": "stream",
     "text": [
      "(2698, 6000, 3) (2698, 1)\n"
     ]
    }
   ],
   "source": [
    "# Merge data\n",
    "\n",
    "amp_merged = np.concatenate((w1,w2,w3,w4),axis=0) \n",
    "mag_merged = np.concatenate((m1,m2,m3,m4),axis=0)\n",
    "\n",
    "print(amp_merged.shape,mag_merged.shape)"
   ]
  },
  {
   "cell_type": "code",
   "execution_count": 13,
   "id": "fadc6d74",
   "metadata": {},
   "outputs": [],
   "source": [
    "# Runs script for visualising traces\n",
    "%run trace_viz.py"
   ]
  },
  {
   "cell_type": "code",
   "execution_count": null,
   "id": "96d6e5ef",
   "metadata": {},
   "outputs": [],
   "source": [
    "# Time domain plots #\n",
    "\n",
    "tplot(amp_merged[5,:,:])"
   ]
  },
  {
   "cell_type": "code",
   "execution_count": 15,
   "id": "8fc486ee",
   "metadata": {},
   "outputs": [],
   "source": [
    "# Scripts for applying Hanning taper and FFT\n",
    "%run hann_taper.py\n",
    "%run sigproc.py"
   ]
  },
  {
   "cell_type": "code",
   "execution_count": 16,
   "id": "5230caf1",
   "metadata": {},
   "outputs": [
    {
     "name": "stdout",
     "output_type": "stream",
     "text": [
      "(2698, 3001, 3)\n"
     ]
    }
   ],
   "source": [
    "# Applies taper and FFT to signals\n",
    "\n",
    "new_amp = np.zeros((len(amp_merged),6000,3),np.float32)\n",
    "#tap_body = np.zeros((len(df2),6000,3),np.float32)\n",
    "#tap_moment = np.zeros((len(df3),6000,3),np.float32)\n",
    "for i in range(len(amp_merged)):\n",
    "    x1 = myHanningTaper(amp_merged[i,:,0],0.1)\n",
    "    x2 = myHanningTaper(amp_merged[i,:,1],0.1)\n",
    "    x3 = myHanningTaper(amp_merged[i,:,2],0.1)\n",
    "    #g = np.hstack((x1,x2,x3))\n",
    "    #g = g.reshape(1,3000,3)\n",
    "    new_amp[i,:,0] = x1\n",
    "    new_amp[i,:,1] = x2\n",
    "    new_amp[i,:,2] = x3\n",
    "#ht = myHanningTaper(amp_merged)\n",
    "fq = fconv(new_amp, len(new_amp))\n",
    "\n",
    "print(fq.shape)"
   ]
  },
  {
   "cell_type": "code",
   "execution_count": null,
   "id": "bc127f5c",
   "metadata": {},
   "outputs": [],
   "source": [
    "# Frequency domain plots #\n",
    "\n",
    "fplot(fq[5,:,:])"
   ]
  },
  {
   "cell_type": "code",
   "execution_count": 17,
   "id": "d4a7aa7c",
   "metadata": {},
   "outputs": [],
   "source": [
    "tf.keras.backend.clear_session()\n",
    "tf.random.set_seed(42)"
   ]
  },
  {
   "cell_type": "code",
   "execution_count": 18,
   "id": "29e059f3",
   "metadata": {},
   "outputs": [],
   "source": [
    "# Runs script containing Tensorflow model layers as classes\n",
    "%run layers_class.py"
   ]
  },
  {
   "cell_type": "code",
   "execution_count": 19,
   "id": "c920af2d",
   "metadata": {},
   "outputs": [
    {
     "name": "stdout",
     "output_type": "stream",
     "text": [
      "(2428, 3001, 1) (2428, 1) (270, 3001, 1) (270, 1)\n",
      "(2428, 3001, 1) (2428, 1) (270, 3001, 1) (270, 1)\n",
      "(2428, 3001, 1) (2428, 1) (270, 3001, 1) (270, 1)\n"
     ]
    }
   ],
   "source": [
    "# Train Test Split #\n",
    "\n",
    "from sklearn.model_selection import train_test_split\n",
    "\n",
    "x1 = fq[:,:,0]\n",
    "x2 = fq[:,:,1]\n",
    "x3 = fq[:,:,2]\n",
    "\n",
    "train_e, test_e, ytrain_e, ytest_e = train_test_split(x1, mag_merged, shuffle=True, test_size=0.1)\n",
    "train_n, test_n, ytrain_n, ytest_n = train_test_split(x2, mag_merged, shuffle=True, test_size=0.1)\n",
    "train_z, test_z, ytrain_z, ytest_z = train_test_split(x3, mag_merged, shuffle=True, test_size=0.1)\n",
    "\n",
    "\n",
    "train_e = np.reshape(train_e, (len(train_e),3001,1))\n",
    "test_e = np.reshape(test_e, (len(test_e),3001,1))\n",
    "train_n = np.reshape(train_n, (len(train_n),3001,1))\n",
    "test_n = np.reshape(test_n, (len(test_n),3001,1))\n",
    "train_z = np.reshape(train_z, (len(train_z),3001,1))\n",
    "test_z = np.reshape(test_z, (len(test_z),3001,1))\n",
    "\n",
    "print(train_e.shape, ytrain_e.shape, test_e.shape, ytest_e.shape)\n",
    "print(train_n.shape, ytrain_n.shape, test_n.shape, ytest_n.shape)\n",
    "print(train_z.shape, ytrain_z.shape, test_z.shape, ytest_z.shape)"
   ]
  },
  {
   "cell_type": "markdown",
   "id": "42bfc92e",
   "metadata": {},
   "source": [
    "# Training channel E"
   ]
  },
  {
   "cell_type": "code",
   "execution_count": 20,
   "id": "9f3e17ba",
   "metadata": {},
   "outputs": [
    {
     "name": "stdout",
     "output_type": "stream",
     "text": [
      "KerasTensor(type_spec=TensorSpec(shape=(3,), dtype=tf.int32, name=None), inferred_value=[None, 3001, 1], name='tf.compat.v1.shape/Shape:0', description=\"created by layer 'tf.compat.v1.shape'\")\n",
      "KerasTensor(type_spec=TensorSpec(shape=(3,), dtype=tf.int32, name=None), inferred_value=[None, 3001, 1], name='tf.compat.v1.shape_1/Shape:0', description=\"created by layer 'tf.compat.v1.shape_1'\")\n",
      "Model: \"model\"\n",
      "_________________________________________________________________\n",
      " Layer (type)                Output Shape              Param #   \n",
      "=================================================================\n",
      " input_layer (InputLayer)    [(None, 3001, 1)]         0         \n",
      "                                                                 \n",
      " attention1 (attention1)     ((None, 3001, 1),         3002      \n",
      "                              (None, 3001, 1),                   \n",
      "                              (None, 3001, 1))                   \n",
      "                                                                 \n",
      " max_pooling1d (MaxPooling1D  (None, 101, 1)           0         \n",
      " )                                                               \n",
      "                                                                 \n",
      " max_pooling1d_1 (MaxPooling  (None, 11, 1)            0         \n",
      " 1D)                                                             \n",
      "                                                                 \n",
      " bidirectional (Bidirectiona  (None, 140)              40320     \n",
      " l)                                                              \n",
      "                                                                 \n",
      " dense (Dense)               (None, 1)                 141       \n",
      "                                                                 \n",
      " output_layer (Activation)   (None, 1)                 0         \n",
      "                                                                 \n",
      "=================================================================\n",
      "Total params: 43,463\n",
      "Trainable params: 43,463\n",
      "Non-trainable params: 0\n",
      "_________________________________________________________________\n"
     ]
    }
   ],
   "source": [
    "# Training the first channel: E\n",
    "epochs_number = 100\n",
    "bach_size = 10\n",
    "drop_rate = 0.2\n",
    "\n",
    "#strategy = tf.distribute.MirroredStrategy()\n",
    "\n",
    "#with strategy.scope():\n",
    "\n",
    "inp = Input(shape=(3001,1), dtype='float32', name='input_layer')     # Input layer\n",
    "#inp = tf.cast(inp, tf.int32)\n",
    "# Embed frequency data #\n",
    "#freq_embed = F2V(750,3001)(inp)\n",
    "#freq_embed = tf.cast(freq_embed, tf.float32)\n",
    "#print(K.get_value(e[:50]))\n",
    "#encoder = Bidirectional(LSTM(50, return_sequences=True, dropout=0.0, recurrent_dropout=0.0))(inp)    # Bi-LSTM layer\n",
    "#print(tf.shape(e))\n",
    "#e = tf.reshape(e,(1500,200))\n",
    "e1, awts, attn_out = attention1()(inp)                  # Bahdanau attention layer\n",
    "#awts = awts.numpy()\n",
    "#print(type(a))\n",
    "#attn_out = tf.reshape(attn_out,(1500,200))\n",
    "#e = tf.expand_dims(attn_out,axis=2)\n",
    "print(tf.shape(awts))\n",
    "print(tf.shape(attn_out))\n",
    "\n",
    "#c1 = Conv1D(1,30,padding='same')(attn_out)\n",
    "m1 = MaxPooling1D(30,padding='same')(attn_out)\n",
    "#c2 = Conv1D(1,10,padding='same')(m1)\n",
    "m2 = MaxPooling1D(10,padding='same')(m1)\n",
    "\n",
    "e = Bidirectional(LSTM(70, return_sequences=False,dropout=0.0,recurrent_dropout=0.0))(m2)\n",
    "\n",
    "d = Dense(1)(e)                                     # Fully connected layer\n",
    "o = Activation('linear', name='output_layer')(d)           # Activation layer\n",
    "\n",
    "model_e = Model(inputs=[inp], outputs=o)\n",
    "\n",
    "model_e.compile(optimizer='Adam', loss='MSE')\n",
    "\n",
    "lr_reducer = ReduceLROnPlateau(monitor='val_loss',         # Reduces learning rate while training\n",
    "                               factor=np.sqrt(0.1),\n",
    "                                patience= 4,\n",
    "                               min_lr=0.5e-10\n",
    "                              )\n",
    "model_e.summary()"
   ]
  },
  {
   "cell_type": "code",
   "execution_count": null,
   "id": "b123ad3c",
   "metadata": {},
   "outputs": [],
   "source": [
    "!pip install pydot\n",
    "!pip install graphviz"
   ]
  },
  {
   "cell_type": "code",
   "execution_count": 21,
   "id": "abba798e",
   "metadata": {},
   "outputs": [],
   "source": [
    "import pydot\n",
    "import graphviz"
   ]
  },
  {
   "cell_type": "code",
   "execution_count": null,
   "id": "0cbd6391",
   "metadata": {},
   "outputs": [],
   "source": [
    "# Plots and saves the model\n",
    "tf.keras.utils.plot_model(model_e,show_shapes=True,to_file='freq_mag.png')"
   ]
  },
  {
   "cell_type": "code",
   "execution_count": 22,
   "id": "1f6a2213",
   "metadata": {},
   "outputs": [
    {
     "name": "stdout",
     "output_type": "stream",
     "text": [
      "Epoch 1/100\n",
      "219/219 [==============================] - 8s 9ms/step - loss: 1.6941 - val_loss: 0.4501 - lr: 0.0010\n",
      "Epoch 2/100\n",
      "219/219 [==============================] - 1s 5ms/step - loss: 0.3754 - val_loss: 0.4016 - lr: 0.0010\n",
      "Epoch 3/100\n",
      "219/219 [==============================] - 1s 5ms/step - loss: 0.3535 - val_loss: 0.4274 - lr: 0.0010\n",
      "Epoch 4/100\n",
      "219/219 [==============================] - 1s 5ms/step - loss: 0.3690 - val_loss: 0.3443 - lr: 0.0010\n",
      "Epoch 5/100\n",
      "219/219 [==============================] - 1s 5ms/step - loss: 0.3637 - val_loss: 0.3547 - lr: 0.0010\n",
      "Epoch 6/100\n",
      "219/219 [==============================] - 1s 5ms/step - loss: 0.3375 - val_loss: 0.3483 - lr: 0.0010\n",
      "Epoch 7/100\n",
      "219/219 [==============================] - 1s 5ms/step - loss: 0.3418 - val_loss: 0.3557 - lr: 0.0010\n",
      "Epoch 8/100\n",
      "219/219 [==============================] - 1s 5ms/step - loss: 0.3263 - val_loss: 0.4007 - lr: 0.0010\n",
      "Epoch 9/100\n",
      "219/219 [==============================] - 1s 5ms/step - loss: 0.3065 - val_loss: 0.3481 - lr: 3.1623e-04\n",
      "Epoch 10/100\n",
      "219/219 [==============================] - 1s 5ms/step - loss: 0.3025 - val_loss: 0.3480 - lr: 3.1623e-04\n",
      "Epoch 11/100\n",
      "219/219 [==============================] - 1s 5ms/step - loss: 0.2982 - val_loss: 0.3424 - lr: 3.1623e-04\n",
      "Epoch 12/100\n",
      "219/219 [==============================] - 1s 5ms/step - loss: 0.2915 - val_loss: 0.3321 - lr: 3.1623e-04\n",
      "Epoch 13/100\n",
      "219/219 [==============================] - 1s 5ms/step - loss: 0.2884 - val_loss: 0.3390 - lr: 3.1623e-04\n",
      "Epoch 14/100\n",
      "219/219 [==============================] - 1s 5ms/step - loss: 0.2993 - val_loss: 0.3255 - lr: 3.1623e-04\n",
      "Epoch 15/100\n",
      "219/219 [==============================] - 1s 5ms/step - loss: 0.2881 - val_loss: 0.3274 - lr: 3.1623e-04\n",
      "Epoch 16/100\n",
      "219/219 [==============================] - 1s 5ms/step - loss: 0.2897 - val_loss: 0.3278 - lr: 3.1623e-04\n",
      "Epoch 17/100\n",
      "219/219 [==============================] - 1s 5ms/step - loss: 0.2843 - val_loss: 0.3230 - lr: 3.1623e-04\n",
      "Epoch 18/100\n",
      "219/219 [==============================] - 1s 5ms/step - loss: 0.2797 - val_loss: 0.3234 - lr: 3.1623e-04\n",
      "Epoch 19/100\n",
      "219/219 [==============================] - 1s 5ms/step - loss: 0.2790 - val_loss: 0.3263 - lr: 3.1623e-04\n",
      "Epoch 20/100\n",
      "219/219 [==============================] - 1s 5ms/step - loss: 0.2781 - val_loss: 0.3187 - lr: 3.1623e-04\n",
      "Epoch 21/100\n",
      "219/219 [==============================] - 1s 5ms/step - loss: 0.2828 - val_loss: 0.3175 - lr: 3.1623e-04\n",
      "Epoch 22/100\n",
      "219/219 [==============================] - 1s 5ms/step - loss: 0.2813 - val_loss: 0.3744 - lr: 3.1623e-04\n",
      "Epoch 23/100\n",
      "219/219 [==============================] - 1s 5ms/step - loss: 0.2795 - val_loss: 0.3143 - lr: 3.1623e-04\n",
      "Epoch 24/100\n",
      "219/219 [==============================] - 1s 5ms/step - loss: 0.2802 - val_loss: 0.3160 - lr: 3.1623e-04\n",
      "Epoch 25/100\n",
      "219/219 [==============================] - 1s 5ms/step - loss: 0.2806 - val_loss: 0.3225 - lr: 3.1623e-04\n",
      "Epoch 26/100\n",
      "219/219 [==============================] - 1s 5ms/step - loss: 0.2723 - val_loss: 0.3199 - lr: 3.1623e-04\n",
      "Epoch 27/100\n",
      "219/219 [==============================] - 1s 5ms/step - loss: 0.2747 - val_loss: 0.3026 - lr: 3.1623e-04\n",
      "Epoch 28/100\n",
      "219/219 [==============================] - 1s 5ms/step - loss: 0.2729 - val_loss: 0.3145 - lr: 3.1623e-04\n",
      "Epoch 29/100\n",
      "219/219 [==============================] - 1s 5ms/step - loss: 0.2713 - val_loss: 0.3293 - lr: 3.1623e-04\n",
      "Epoch 30/100\n",
      "219/219 [==============================] - 1s 5ms/step - loss: 0.2753 - val_loss: 0.3180 - lr: 3.1623e-04\n",
      "Epoch 31/100\n",
      "219/219 [==============================] - 1s 5ms/step - loss: 0.2714 - val_loss: 0.2963 - lr: 3.1623e-04\n",
      "Epoch 32/100\n",
      "219/219 [==============================] - 1s 5ms/step - loss: 0.2619 - val_loss: 0.3032 - lr: 3.1623e-04\n",
      "Epoch 33/100\n",
      "219/219 [==============================] - 1s 5ms/step - loss: 0.2617 - val_loss: 0.2869 - lr: 3.1623e-04\n",
      "Epoch 34/100\n",
      "219/219 [==============================] - 1s 5ms/step - loss: 0.2602 - val_loss: 0.2940 - lr: 3.1623e-04\n",
      "Epoch 35/100\n",
      "219/219 [==============================] - 1s 5ms/step - loss: 0.2678 - val_loss: 0.2897 - lr: 3.1623e-04\n",
      "Epoch 36/100\n",
      "219/219 [==============================] - 1s 5ms/step - loss: 0.2618 - val_loss: 0.2971 - lr: 3.1623e-04\n",
      "Epoch 37/100\n",
      "219/219 [==============================] - 1s 5ms/step - loss: 0.2554 - val_loss: 0.3007 - lr: 3.1623e-04\n",
      "Epoch 38/100\n",
      "219/219 [==============================] - 1s 5ms/step - loss: 0.2446 - val_loss: 0.2884 - lr: 1.0000e-04\n",
      "Epoch 39/100\n",
      "219/219 [==============================] - 1s 5ms/step - loss: 0.2440 - val_loss: 0.2923 - lr: 1.0000e-04\n",
      "Epoch 40/100\n",
      "219/219 [==============================] - 1s 5ms/step - loss: 0.2429 - val_loss: 0.2813 - lr: 1.0000e-04\n",
      "Epoch 41/100\n",
      "219/219 [==============================] - 1s 5ms/step - loss: 0.2403 - val_loss: 0.2795 - lr: 1.0000e-04\n",
      "Epoch 42/100\n",
      "219/219 [==============================] - 1s 5ms/step - loss: 0.2388 - val_loss: 0.2771 - lr: 1.0000e-04\n",
      "Epoch 43/100\n",
      "219/219 [==============================] - 1s 5ms/step - loss: 0.2400 - val_loss: 0.2835 - lr: 1.0000e-04\n",
      "Epoch 44/100\n",
      "219/219 [==============================] - 1s 5ms/step - loss: 0.2353 - val_loss: 0.2808 - lr: 1.0000e-04\n",
      "Epoch 45/100\n",
      "219/219 [==============================] - 1s 5ms/step - loss: 0.2363 - val_loss: 0.2664 - lr: 1.0000e-04\n",
      "Epoch 46/100\n",
      "219/219 [==============================] - 1s 5ms/step - loss: 0.2312 - val_loss: 0.2725 - lr: 1.0000e-04\n",
      "Epoch 47/100\n",
      "219/219 [==============================] - 1s 5ms/step - loss: 0.2354 - val_loss: 0.2813 - lr: 1.0000e-04\n",
      "Epoch 48/100\n",
      "219/219 [==============================] - 1s 5ms/step - loss: 0.2530 - val_loss: 0.2946 - lr: 1.0000e-04\n",
      "Epoch 49/100\n",
      "219/219 [==============================] - 1s 5ms/step - loss: 0.2511 - val_loss: 0.2837 - lr: 1.0000e-04\n",
      "Epoch 50/100\n",
      "219/219 [==============================] - 1s 5ms/step - loss: 0.2454 - val_loss: 0.2814 - lr: 3.1623e-05\n",
      "Epoch 51/100\n",
      "219/219 [==============================] - 1s 5ms/step - loss: 0.2418 - val_loss: 0.2802 - lr: 3.1623e-05\n",
      "Epoch 52/100\n",
      "219/219 [==============================] - 1s 5ms/step - loss: 0.2410 - val_loss: 0.2785 - lr: 3.1623e-05\n",
      "Epoch 53/100\n",
      "219/219 [==============================] - 1s 5ms/step - loss: 0.2400 - val_loss: 0.2769 - lr: 3.1623e-05\n",
      "Epoch 54/100\n",
      "219/219 [==============================] - 1s 5ms/step - loss: 0.2376 - val_loss: 0.2757 - lr: 1.0000e-05\n",
      "Epoch 55/100\n",
      "219/219 [==============================] - 1s 5ms/step - loss: 0.2381 - val_loss: 0.2789 - lr: 1.0000e-05\n",
      "Epoch 56/100\n",
      "219/219 [==============================] - 1s 5ms/step - loss: 0.2370 - val_loss: 0.2746 - lr: 1.0000e-05\n",
      "Epoch 57/100\n",
      "219/219 [==============================] - 1s 5ms/step - loss: 0.2362 - val_loss: 0.2743 - lr: 1.0000e-05\n",
      "Epoch 58/100\n",
      "219/219 [==============================] - 1s 5ms/step - loss: 0.2353 - val_loss: 0.2744 - lr: 3.1623e-06\n",
      "Epoch 59/100\n",
      "219/219 [==============================] - 1s 5ms/step - loss: 0.2352 - val_loss: 0.2745 - lr: 3.1623e-06\n",
      "Epoch 60/100\n",
      "219/219 [==============================] - 1s 5ms/step - loss: 0.2351 - val_loss: 0.2744 - lr: 3.1623e-06\n",
      "Epoch 61/100\n",
      "219/219 [==============================] - 1s 5ms/step - loss: 0.2350 - val_loss: 0.2742 - lr: 3.1623e-06\n",
      "Epoch 62/100\n",
      "219/219 [==============================] - 1s 5ms/step - loss: 0.2347 - val_loss: 0.2742 - lr: 1.0000e-06\n",
      "Epoch 63/100\n",
      "219/219 [==============================] - 1s 5ms/step - loss: 0.2346 - val_loss: 0.2741 - lr: 1.0000e-06\n",
      "Epoch 64/100\n",
      "219/219 [==============================] - 1s 5ms/step - loss: 0.2346 - val_loss: 0.2741 - lr: 1.0000e-06\n",
      "Epoch 65/100\n",
      "219/219 [==============================] - 1s 5ms/step - loss: 0.2346 - val_loss: 0.2741 - lr: 1.0000e-06\n",
      "Epoch 66/100\n",
      "219/219 [==============================] - 1s 5ms/step - loss: 0.2344 - val_loss: 0.2741 - lr: 3.1623e-07\n",
      "Epoch 67/100\n",
      "219/219 [==============================] - 1s 5ms/step - loss: 0.2344 - val_loss: 0.2741 - lr: 3.1623e-07\n",
      "Epoch 68/100\n",
      "219/219 [==============================] - 1s 5ms/step - loss: 0.2344 - val_loss: 0.2741 - lr: 3.1623e-07\n",
      "Epoch 69/100\n",
      "219/219 [==============================] - 1s 5ms/step - loss: 0.2344 - val_loss: 0.2741 - lr: 3.1623e-07\n",
      "Epoch 70/100\n"
     ]
    },
    {
     "name": "stdout",
     "output_type": "stream",
     "text": [
      "219/219 [==============================] - 1s 5ms/step - loss: 0.2344 - val_loss: 0.2741 - lr: 1.0000e-07\n",
      "Epoch 71/100\n",
      "219/219 [==============================] - 1s 5ms/step - loss: 0.2344 - val_loss: 0.2741 - lr: 1.0000e-07\n",
      "Epoch 72/100\n",
      "219/219 [==============================] - 1s 5ms/step - loss: 0.2344 - val_loss: 0.2741 - lr: 1.0000e-07\n",
      "Epoch 73/100\n",
      "219/219 [==============================] - 1s 5ms/step - loss: 0.2344 - val_loss: 0.2741 - lr: 1.0000e-07\n",
      "Epoch 74/100\n",
      "219/219 [==============================] - 1s 5ms/step - loss: 0.2343 - val_loss: 0.2741 - lr: 3.1623e-08\n",
      "Epoch 75/100\n",
      "219/219 [==============================] - 1s 5ms/step - loss: 0.2343 - val_loss: 0.2741 - lr: 3.1623e-08\n",
      "Epoch 76/100\n",
      "219/219 [==============================] - 1s 5ms/step - loss: 0.2343 - val_loss: 0.2741 - lr: 3.1623e-08\n",
      "Epoch 77/100\n",
      "219/219 [==============================] - 1s 5ms/step - loss: 0.2343 - val_loss: 0.2741 - lr: 3.1623e-08\n",
      "Epoch 78/100\n",
      "219/219 [==============================] - 1s 5ms/step - loss: 0.2343 - val_loss: 0.2741 - lr: 1.0000e-08\n",
      "Epoch 79/100\n",
      "219/219 [==============================] - 1s 5ms/step - loss: 0.2343 - val_loss: 0.2741 - lr: 1.0000e-08\n",
      "Epoch 80/100\n",
      "219/219 [==============================] - 1s 5ms/step - loss: 0.2343 - val_loss: 0.2741 - lr: 1.0000e-08\n",
      "Epoch 81/100\n",
      "219/219 [==============================] - 1s 5ms/step - loss: 0.2343 - val_loss: 0.2741 - lr: 1.0000e-08\n",
      "Epoch 82/100\n",
      "219/219 [==============================] - 1s 5ms/step - loss: 0.2343 - val_loss: 0.2741 - lr: 3.1623e-09\n",
      "Epoch 83/100\n",
      "219/219 [==============================] - 1s 5ms/step - loss: 0.2343 - val_loss: 0.2741 - lr: 3.1623e-09\n",
      "Epoch 84/100\n",
      "219/219 [==============================] - 1s 5ms/step - loss: 0.2343 - val_loss: 0.2741 - lr: 3.1623e-09\n",
      "Epoch 85/100\n",
      "219/219 [==============================] - 1s 5ms/step - loss: 0.2343 - val_loss: 0.2741 - lr: 3.1623e-09\n",
      "Epoch 86/100\n",
      "219/219 [==============================] - 1s 5ms/step - loss: 0.2343 - val_loss: 0.2741 - lr: 1.0000e-09\n",
      "Epoch 87/100\n",
      "219/219 [==============================] - 1s 5ms/step - loss: 0.2343 - val_loss: 0.2741 - lr: 1.0000e-09\n",
      "Epoch 88/100\n",
      "219/219 [==============================] - 1s 5ms/step - loss: 0.2343 - val_loss: 0.2741 - lr: 1.0000e-09\n",
      "Epoch 89/100\n",
      "219/219 [==============================] - 1s 5ms/step - loss: 0.2343 - val_loss: 0.2741 - lr: 1.0000e-09\n",
      "Epoch 90/100\n",
      "219/219 [==============================] - 1s 5ms/step - loss: 0.2343 - val_loss: 0.2741 - lr: 3.1623e-10\n",
      "Epoch 91/100\n",
      "219/219 [==============================] - 1s 5ms/step - loss: 0.2343 - val_loss: 0.2741 - lr: 3.1623e-10\n",
      "Epoch 92/100\n",
      "219/219 [==============================] - 1s 5ms/step - loss: 0.2343 - val_loss: 0.2741 - lr: 3.1623e-10\n",
      "Epoch 93/100\n",
      "219/219 [==============================] - 1s 5ms/step - loss: 0.2343 - val_loss: 0.2741 - lr: 3.1623e-10\n",
      "Epoch 94/100\n",
      "219/219 [==============================] - 1s 5ms/step - loss: 0.2343 - val_loss: 0.2741 - lr: 1.0000e-10\n",
      "Epoch 95/100\n",
      "219/219 [==============================] - 1s 5ms/step - loss: 0.2343 - val_loss: 0.2741 - lr: 1.0000e-10\n",
      "Epoch 96/100\n",
      "219/219 [==============================] - 1s 5ms/step - loss: 0.2343 - val_loss: 0.2741 - lr: 1.0000e-10\n",
      "Epoch 97/100\n",
      "219/219 [==============================] - 1s 5ms/step - loss: 0.2343 - val_loss: 0.2741 - lr: 1.0000e-10\n",
      "Epoch 98/100\n",
      "219/219 [==============================] - 1s 5ms/step - loss: 0.2343 - val_loss: 0.2741 - lr: 5.0000e-11\n",
      "Epoch 99/100\n",
      "219/219 [==============================] - 1s 5ms/step - loss: 0.2343 - val_loss: 0.2741 - lr: 5.0000e-11\n",
      "Epoch 100/100\n",
      "219/219 [==============================] - 1s 5ms/step - loss: 0.2343 - val_loss: 0.2741 - lr: 5.0000e-11\n",
      "123.363\n"
     ]
    }
   ],
   "source": [
    "# Training\n",
    "start = time.perf_counter()\n",
    "history = model_e.fit(train_e, ytrain_e, epochs=epochs_number, validation_split=0.1, batch_size=bach_size, callbacks = [lr_reducer])\n",
    "elap = time.perf_counter() - start\n",
    "print('%.3f' % elap)\n",
    "\n",
    "# Get attention scores\n",
    "#enc = model.layers[1]\n",
    "attention_layer = model_e.layers[1]\n",
    "#encout = enc(train_e[0:1,:])\n",
    "e2, awts, _ = attention_layer(train_e[0:1,:])\n",
    "#print(tf.reduce_max(awts),tf.reduce_min(awts))\n",
    "awts = tf.reshape(e2,(3001,1))\n",
    "train1 = tf.reshape(train_e[0:1],(3001,1))\n",
    "#print(tf.shape(awts))\n",
    "#v = yz[:1]\n",
    "#v = tf.reshape(v,(3001,1))\n",
    "#av = tf.concat((awts,train1),axis=1)\n",
    "#print(tf.shape(av))\n",
    "#merged = tf.stack((awts,train1),axis=1)\n",
    "#print(tf.shape(merged))\n",
    "#fig, ax = plt.subplots(figsize=(10,10))\n",
    "#fig, ax = plt.subplots(ncols=2, gridspec_kw=dict(width_ratios=[5,0.5]))\n",
    "#title = 'Attention Heatmap'\n",
    "#plt.title(title,fontsize=15)\n",
    "#plt.setp(ax.get_xticklabels(), visible=False)\n",
    "#ttl = ax.title\n",
    "#ax.axis('off')\n",
    "#ttl.set_position([0.5,1.05])\n",
    "#sns.heatmap(awts[:,:])#, annot=True, cbar=True)#, ax=axs[1])\n",
    "#fig.colorbar(axs[1].collections[0], cax=axs[1])\n",
    "#plt.show()"
   ]
  },
  {
   "cell_type": "code",
   "execution_count": 24,
   "id": "181f1463",
   "metadata": {},
   "outputs": [
    {
     "data": {
      "image/png": "[encoded data removed]",
      "text/plain": [
       "<Figure size 432x288 with 1 Axes>"
      ]
     },
     "metadata": {
      "needs_background": "light"
     },
     "output_type": "display_data"
    }
   ],
   "source": [
    "# Loss Plots #\n",
    "\n",
    "%matplotlib inline\n",
    "fig = plt.figure()\n",
    "ax = fig.add_subplot(111)\n",
    "ax.plot(history.history['loss'])\n",
    "ax.plot(history.history['val_loss'], '--')\n",
    "ax.legend(['loss', 'val_loss'], loc='upper right') \n",
    "plt.ylabel('Loss')\n",
    "plt.xlabel('Epoch')\n",
    "plt.title('E Channel Loss')\n",
    "plt.rcParams['figure.figsize'] = (5,5)\n",
    "plt.grid(b=True, which='major', color='#666666', linestyle='-')\n",
    "plt.show()"
   ]
  },
  {
   "cell_type": "code",
   "execution_count": 44,
   "id": "6549fb17",
   "metadata": {},
   "outputs": [],
   "source": [
    "# Uncertainty Quantification #\n",
    "%run uq_epistemic.py"
   ]
  },
  {
   "cell_type": "code",
   "execution_count": 45,
   "id": "f321d382",
   "metadata": {},
   "outputs": [],
   "source": [
    "mc_num = 50\n",
    "ep_e = uq_ec(train_e,model_e,bach_size,mc_num)"
   ]
  },
  {
   "cell_type": "code",
   "execution_count": 47,
   "id": "20c551c8",
   "metadata": {},
   "outputs": [
    {
     "name": "stdout",
     "output_type": "stream",
     "text": [
      "(2428, 1)\n"
     ]
    }
   ],
   "source": [
    "ep_e = np.reshape(ep_e,(2428,1))\n",
    "print(ep_e.shape)"
   ]
  },
  {
   "cell_type": "code",
   "execution_count": 49,
   "id": "5731df58",
   "metadata": {},
   "outputs": [
    {
     "data": {
      "image/png": "[encoded data removed]",
      "text/plain": [
       "<Figure size 360x360 with 1 Axes>"
      ]
     },
     "metadata": {
      "needs_background": "light"
     },
     "output_type": "display_data"
    }
   ],
   "source": [
    "# Visualise\n",
    "\n",
    "plt.figure()\n",
    "plt.plot(ytrain_e, ep_e, 'ro', alpha=0.4)\n",
    "plt.xlabel('Magnitude')\n",
    "plt.ylabel('Epistemic Uncertainty')\n",
    "plt.title('Epistemic Uncertainty: Channel E')\n",
    "plt.show() "
   ]
  },
  {
   "cell_type": "code",
   "execution_count": 51,
   "id": "ddcd301e",
   "metadata": {},
   "outputs": [
    {
     "name": "stdout",
     "output_type": "stream",
     "text": [
      "9/9 [==============================] - 0s 6ms/step - loss: 0.2337\n",
      "test loss:  0.23365963995456696\n",
      "9/9 [==============================] - 0s 5ms/step\n"
     ]
    }
   ],
   "source": [
    "# Evaluate\n",
    "\n",
    "eva = model_e.evaluate(test_e, ytest_e)\n",
    "print('test loss: ',eva)\n",
    "\n",
    "predic_e = model_e.predict(test_e)"
   ]
  },
  {
   "cell_type": "code",
   "execution_count": 54,
   "id": "b8eb5b75",
   "metadata": {},
   "outputs": [
    {
     "data": {
      "text/plain": [
       "Text(0.5, 1.0, 'Measured Vs. Predicted: Channel E')"
      ]
     },
     "execution_count": 54,
     "metadata": {},
     "output_type": "execute_result"
    },
    {
     "data": {
      "image/png": "[encoded data removed]",
      "text/plain": [
       "<Figure size 360x360 with 1 Axes>"
      ]
     },
     "metadata": {
      "needs_background": "light"
     },
     "output_type": "display_data"
    }
   ],
   "source": [
    "# Measured Vs. Predicted\n",
    "\n",
    "fig, ax = plt.subplots()\n",
    "ax.scatter(ytest_e, predic_e, alpha = 0.4, facecolors='none', edgecolors='r')\n",
    "ax.plot([ytest_e.min(), ytest_e.max()], [ytest_e.min(), ytest_e.max()], 'k--', alpha=0.4, lw=2)\n",
    "ax.set_xlabel('Measured')\n",
    "ax.set_ylabel('Predicted')\n",
    "ax.set_title('Measured Vs. Predicted: Channel E')"
   ]
  },
  {
   "cell_type": "markdown",
   "id": "277468be",
   "metadata": {},
   "source": [
    "# Training channel N"
   ]
  },
  {
   "cell_type": "code",
   "execution_count": 55,
   "id": "8f67586d",
   "metadata": {},
   "outputs": [
    {
     "name": "stdout",
     "output_type": "stream",
     "text": [
      "KerasTensor(type_spec=TensorSpec(shape=(3,), dtype=tf.int32, name=None), inferred_value=[None, 3001, 1], name='tf.compat.v1.shape_2/Shape:0', description=\"created by layer 'tf.compat.v1.shape_2'\")\n",
      "Model: \"model_1\"\n",
      "_________________________________________________________________\n",
      " Layer (type)                Output Shape              Param #   \n",
      "=================================================================\n",
      " input_layer (InputLayer)    [(None, 3001, 1)]         0         \n",
      "                                                                 \n",
      " attention1_1 (attention1)   ((None, 3001, 1),         3002      \n",
      "                              (None, 3001, 1),                   \n",
      "                              (None, 3001, 1))                   \n",
      "                                                                 \n",
      " max_pooling1d_2 (MaxPooling  (None, 101, 1)           0         \n",
      " 1D)                                                             \n",
      "                                                                 \n",
      " max_pooling1d_3 (MaxPooling  (None, 11, 1)            0         \n",
      " 1D)                                                             \n",
      "                                                                 \n",
      " bidirectional_1 (Bidirectio  (None, 140)              40320     \n",
      " nal)                                                            \n",
      "                                                                 \n",
      " dense_1 (Dense)             (None, 1)                 141       \n",
      "                                                                 \n",
      " output_layer (Activation)   (None, 1)                 0         \n",
      "                                                                 \n",
      "=================================================================\n",
      "Total params: 43,463\n",
      "Trainable params: 43,463\n",
      "Non-trainable params: 0\n",
      "_________________________________________________________________\n"
     ]
    }
   ],
   "source": [
    "# Training the second channel: N\n",
    "epochs_number = 100\n",
    "bach_size = 10\n",
    "drop_rate = 0.2\n",
    "\n",
    "#strategy = tf.distribute.MirroredStrategy()\n",
    "\n",
    "#with strategy.scope():\n",
    "\n",
    "inp = Input(shape=(3001,1), dtype='float32', name='input_layer') \n",
    "#inp = tf.cast(inp, tf.int32)\n",
    "# Embed frequency data #\n",
    "#freq_embed = F2V(750,3001)(inp)\n",
    "#freq_embed = tf.cast(freq_embed, tf.float32)\n",
    "#print(K.get_value(e[:50]))\n",
    "#encoder = Bidirectional(LSTM(50, return_sequences=True, dropout=0.0, recurrent_dropout=0.0))(inp)\n",
    "#print(tf.shape(e))\n",
    "#e = tf.reshape(e,(1500,200))\n",
    "e1, awts, attn_out = attention1()(inp)\n",
    "#awts = awts.numpy()\n",
    "#print(type(a))\n",
    "#attn_out = tf.reshape(attn_out,(1500,200))\n",
    "#e = tf.expand_dims(attn_out,axis=2)\n",
    "print(tf.shape(attn_out))\n",
    "\n",
    "#c1 = Conv1D(64,20,padding='same')(attn_out)\n",
    "m1 = MaxPooling1D(30,padding='same')(attn_out)\n",
    "#c2 = Conv1D(64,20,padding='same')(m1)\n",
    "m2 = MaxPooling1D(10,padding='same')(m1)\n",
    "\n",
    "e = Bidirectional(LSTM(70,return_sequences=False,dropout=0.0,recurrent_dropout=0.0))(m2)\n",
    "\n",
    "d = Dense(1)(e)\n",
    "o = Activation('linear', name='output_layer')(d)\n",
    "\n",
    "model_n = Model(inputs=[inp], outputs=o)\n",
    "\n",
    "model_n.compile(optimizer='Adam', loss='MSE')\n",
    "\n",
    "lr_reducer = ReduceLROnPlateau(monitor='val_loss',\n",
    "                               factor=np.sqrt(0.1),\n",
    "                                patience= 4,\n",
    "                               min_lr=0.5e-10\n",
    "                              )\n",
    "model_n.summary()"
   ]
  },
  {
   "cell_type": "code",
   "execution_count": 56,
   "id": "2701b9ee",
   "metadata": {},
   "outputs": [
    {
     "name": "stdout",
     "output_type": "stream",
     "text": [
      "Epoch 1/100\n",
      "219/219 [==============================] - 6s 9ms/step - loss: 0.9964 - val_loss: 0.3737 - lr: 0.0010\n",
      "Epoch 2/100\n",
      "219/219 [==============================] - 1s 6ms/step - loss: 0.3595 - val_loss: 0.3137 - lr: 0.0010\n",
      "Epoch 3/100\n",
      "219/219 [==============================] - 1s 6ms/step - loss: 0.3406 - val_loss: 0.4129 - lr: 0.0010\n",
      "Epoch 4/100\n",
      "219/219 [==============================] - 1s 6ms/step - loss: 0.3625 - val_loss: 0.3447 - lr: 0.0010\n",
      "Epoch 5/100\n",
      "219/219 [==============================] - 1s 6ms/step - loss: 0.3418 - val_loss: 0.3384 - lr: 0.0010\n",
      "Epoch 6/100\n",
      "219/219 [==============================] - 1s 6ms/step - loss: 0.3521 - val_loss: 0.3905 - lr: 0.0010\n",
      "Epoch 7/100\n",
      "219/219 [==============================] - 1s 6ms/step - loss: 0.3288 - val_loss: 0.3323 - lr: 3.1623e-04\n",
      "Epoch 8/100\n",
      "219/219 [==============================] - 1s 6ms/step - loss: 0.3234 - val_loss: 0.3151 - lr: 3.1623e-04\n",
      "Epoch 9/100\n",
      "219/219 [==============================] - 1s 6ms/step - loss: 0.3167 - val_loss: 0.3098 - lr: 3.1623e-04\n",
      "Epoch 10/100\n",
      "219/219 [==============================] - 1s 6ms/step - loss: 0.3122 - val_loss: 0.3064 - lr: 3.1623e-04\n",
      "Epoch 11/100\n",
      "219/219 [==============================] - 1s 6ms/step - loss: 0.3069 - val_loss: 0.3075 - lr: 3.1623e-04\n",
      "Epoch 12/100\n",
      "219/219 [==============================] - 1s 5ms/step - loss: 0.2956 - val_loss: 0.2906 - lr: 3.1623e-04\n",
      "Epoch 13/100\n",
      "219/219 [==============================] - 1s 5ms/step - loss: 0.2947 - val_loss: 0.3043 - lr: 3.1623e-04\n",
      "Epoch 14/100\n",
      "219/219 [==============================] - 1s 5ms/step - loss: 0.3029 - val_loss: 0.3089 - lr: 3.1623e-04\n",
      "Epoch 15/100\n",
      "219/219 [==============================] - 1s 5ms/step - loss: 0.2918 - val_loss: 0.3270 - lr: 3.1623e-04\n",
      "Epoch 16/100\n",
      "219/219 [==============================] - 1s 5ms/step - loss: 0.2977 - val_loss: 0.3000 - lr: 3.1623e-04\n",
      "Epoch 17/100\n",
      "219/219 [==============================] - 1s 5ms/step - loss: 0.2793 - val_loss: 0.2850 - lr: 1.0000e-04\n",
      "Epoch 18/100\n",
      "219/219 [==============================] - 1s 6ms/step - loss: 0.2762 - val_loss: 0.3221 - lr: 1.0000e-04\n",
      "Epoch 19/100\n",
      "219/219 [==============================] - 1s 5ms/step - loss: 0.2892 - val_loss: 0.2957 - lr: 1.0000e-04\n",
      "Epoch 20/100\n",
      "219/219 [==============================] - 1s 5ms/step - loss: 0.2809 - val_loss: 0.3005 - lr: 1.0000e-04\n",
      "Epoch 21/100\n",
      "219/219 [==============================] - 1s 6ms/step - loss: 0.2797 - val_loss: 0.2956 - lr: 1.0000e-04\n",
      "Epoch 22/100\n",
      "219/219 [==============================] - 1s 6ms/step - loss: 0.2747 - val_loss: 0.2885 - lr: 3.1623e-05\n",
      "Epoch 23/100\n",
      "219/219 [==============================] - 2s 7ms/step - loss: 0.2734 - val_loss: 0.2884 - lr: 3.1623e-05\n",
      "Epoch 24/100\n",
      "219/219 [==============================] - 1s 6ms/step - loss: 0.2712 - val_loss: 0.2918 - lr: 3.1623e-05\n",
      "Epoch 25/100\n",
      "219/219 [==============================] - 2s 7ms/step - loss: 0.2705 - val_loss: 0.2813 - lr: 3.1623e-05\n",
      "Epoch 26/100\n",
      "219/219 [==============================] - 2s 8ms/step - loss: 0.2687 - val_loss: 0.2813 - lr: 3.1623e-05\n",
      "Epoch 27/100\n",
      "219/219 [==============================] - 1s 7ms/step - loss: 0.2677 - val_loss: 0.2832 - lr: 3.1623e-05\n",
      "Epoch 28/100\n",
      "219/219 [==============================] - 1s 7ms/step - loss: 0.2669 - val_loss: 0.2794 - lr: 3.1623e-05\n",
      "Epoch 29/100\n",
      "219/219 [==============================] - 1s 6ms/step - loss: 0.2658 - val_loss: 0.2784 - lr: 3.1623e-05\n",
      "Epoch 30/100\n",
      "219/219 [==============================] - 1s 6ms/step - loss: 0.2660 - val_loss: 0.2843 - lr: 3.1623e-05\n",
      "Epoch 31/100\n",
      "219/219 [==============================] - 1s 6ms/step - loss: 0.2651 - val_loss: 0.2774 - lr: 3.1623e-05\n",
      "Epoch 32/100\n",
      "219/219 [==============================] - 1s 5ms/step - loss: 0.2638 - val_loss: 0.2791 - lr: 3.1623e-05\n",
      "Epoch 33/100\n",
      "219/219 [==============================] - 1s 5ms/step - loss: 0.2631 - val_loss: 0.2739 - lr: 3.1623e-05\n",
      "Epoch 34/100\n",
      "219/219 [==============================] - 1s 6ms/step - loss: 0.2610 - val_loss: 0.2718 - lr: 3.1623e-05\n",
      "Epoch 35/100\n",
      "219/219 [==============================] - 1s 6ms/step - loss: 0.2592 - val_loss: 0.2701 - lr: 3.1623e-05\n",
      "Epoch 36/100\n",
      "219/219 [==============================] - 1s 6ms/step - loss: 0.2573 - val_loss: 0.2812 - lr: 3.1623e-05\n",
      "Epoch 37/100\n",
      "219/219 [==============================] - 1s 6ms/step - loss: 0.2645 - val_loss: 0.2761 - lr: 3.1623e-05\n",
      "Epoch 38/100\n",
      "219/219 [==============================] - 1s 6ms/step - loss: 0.2648 - val_loss: 0.2843 - lr: 3.1623e-05\n",
      "Epoch 39/100\n",
      "219/219 [==============================] - 1s 6ms/step - loss: 0.2649 - val_loss: 0.2740 - lr: 3.1623e-05\n",
      "Epoch 40/100\n",
      "219/219 [==============================] - 1s 6ms/step - loss: 0.2617 - val_loss: 0.2741 - lr: 1.0000e-05\n",
      "Epoch 41/100\n",
      "219/219 [==============================] - 1s 6ms/step - loss: 0.2613 - val_loss: 0.2751 - lr: 1.0000e-05\n",
      "Epoch 42/100\n",
      "219/219 [==============================] - 1s 6ms/step - loss: 0.2610 - val_loss: 0.2751 - lr: 1.0000e-05\n",
      "Epoch 43/100\n",
      "219/219 [==============================] - 1s 5ms/step - loss: 0.2606 - val_loss: 0.2749 - lr: 1.0000e-05\n",
      "Epoch 44/100\n",
      "219/219 [==============================] - 1s 5ms/step - loss: 0.2597 - val_loss: 0.2752 - lr: 3.1623e-06\n",
      "Epoch 45/100\n",
      "219/219 [==============================] - 1s 6ms/step - loss: 0.2596 - val_loss: 0.2746 - lr: 3.1623e-06\n",
      "Epoch 46/100\n",
      "219/219 [==============================] - 1s 6ms/step - loss: 0.2595 - val_loss: 0.2742 - lr: 3.1623e-06\n",
      "Epoch 47/100\n",
      "219/219 [==============================] - 1s 6ms/step - loss: 0.2595 - val_loss: 0.2741 - lr: 3.1623e-06\n",
      "Epoch 48/100\n",
      "219/219 [==============================] - 1s 5ms/step - loss: 0.2591 - val_loss: 0.2741 - lr: 1.0000e-06\n",
      "Epoch 49/100\n",
      "219/219 [==============================] - 1s 5ms/step - loss: 0.2591 - val_loss: 0.2741 - lr: 1.0000e-06\n",
      "Epoch 50/100\n",
      "219/219 [==============================] - 1s 5ms/step - loss: 0.2591 - val_loss: 0.2740 - lr: 1.0000e-06\n",
      "Epoch 51/100\n",
      "219/219 [==============================] - 1s 5ms/step - loss: 0.2590 - val_loss: 0.2740 - lr: 1.0000e-06\n",
      "Epoch 52/100\n",
      "219/219 [==============================] - 1s 6ms/step - loss: 0.2589 - val_loss: 0.2740 - lr: 3.1623e-07\n",
      "Epoch 53/100\n",
      "219/219 [==============================] - 1s 5ms/step - loss: 0.2589 - val_loss: 0.2740 - lr: 3.1623e-07\n",
      "Epoch 54/100\n",
      "219/219 [==============================] - 1s 6ms/step - loss: 0.2589 - val_loss: 0.2740 - lr: 3.1623e-07\n",
      "Epoch 55/100\n",
      "219/219 [==============================] - 1s 6ms/step - loss: 0.2589 - val_loss: 0.2739 - lr: 3.1623e-07\n",
      "Epoch 56/100\n",
      "219/219 [==============================] - 1s 6ms/step - loss: 0.2589 - val_loss: 0.2739 - lr: 1.0000e-07\n",
      "Epoch 57/100\n",
      "219/219 [==============================] - 1s 6ms/step - loss: 0.2589 - val_loss: 0.2739 - lr: 1.0000e-07\n",
      "Epoch 58/100\n",
      "219/219 [==============================] - 1s 6ms/step - loss: 0.2589 - val_loss: 0.2739 - lr: 1.0000e-07\n",
      "Epoch 59/100\n",
      "219/219 [==============================] - 1s 6ms/step - loss: 0.2589 - val_loss: 0.2739 - lr: 1.0000e-07\n",
      "Epoch 60/100\n",
      "219/219 [==============================] - 1s 6ms/step - loss: 0.2588 - val_loss: 0.2739 - lr: 3.1623e-08\n",
      "Epoch 61/100\n",
      "219/219 [==============================] - 1s 5ms/step - loss: 0.2588 - val_loss: 0.2739 - lr: 3.1623e-08\n",
      "Epoch 62/100\n",
      "219/219 [==============================] - 1s 5ms/step - loss: 0.2588 - val_loss: 0.2739 - lr: 3.1623e-08\n",
      "Epoch 63/100\n",
      "219/219 [==============================] - 1s 6ms/step - loss: 0.2588 - val_loss: 0.2739 - lr: 3.1623e-08\n",
      "Epoch 64/100\n",
      "219/219 [==============================] - 1s 5ms/step - loss: 0.2588 - val_loss: 0.2739 - lr: 1.0000e-08\n",
      "Epoch 65/100\n",
      "219/219 [==============================] - 1s 6ms/step - loss: 0.2588 - val_loss: 0.2739 - lr: 1.0000e-08\n",
      "Epoch 66/100\n",
      "219/219 [==============================] - 1s 6ms/step - loss: 0.2588 - val_loss: 0.2739 - lr: 1.0000e-08\n",
      "Epoch 67/100\n",
      "219/219 [==============================] - 1s 6ms/step - loss: 0.2588 - val_loss: 0.2739 - lr: 1.0000e-08\n",
      "Epoch 68/100\n",
      "219/219 [==============================] - 1s 6ms/step - loss: 0.2588 - val_loss: 0.2739 - lr: 3.1623e-09\n",
      "Epoch 69/100\n",
      "219/219 [==============================] - 1s 6ms/step - loss: 0.2588 - val_loss: 0.2739 - lr: 3.1623e-09\n",
      "Epoch 70/100\n"
     ]
    },
    {
     "name": "stdout",
     "output_type": "stream",
     "text": [
      "219/219 [==============================] - 1s 6ms/step - loss: 0.2588 - val_loss: 0.2739 - lr: 3.1623e-09\n",
      "Epoch 71/100\n",
      "219/219 [==============================] - 1s 6ms/step - loss: 0.2588 - val_loss: 0.2739 - lr: 3.1623e-09\n",
      "Epoch 72/100\n",
      "219/219 [==============================] - 1s 6ms/step - loss: 0.2588 - val_loss: 0.2739 - lr: 1.0000e-09\n",
      "Epoch 73/100\n",
      "219/219 [==============================] - 1s 5ms/step - loss: 0.2588 - val_loss: 0.2739 - lr: 1.0000e-09\n",
      "Epoch 74/100\n",
      "219/219 [==============================] - 1s 6ms/step - loss: 0.2588 - val_loss: 0.2739 - lr: 1.0000e-09\n",
      "Epoch 75/100\n",
      "219/219 [==============================] - 1s 6ms/step - loss: 0.2588 - val_loss: 0.2739 - lr: 1.0000e-09\n",
      "Epoch 76/100\n",
      "219/219 [==============================] - 1s 5ms/step - loss: 0.2588 - val_loss: 0.2739 - lr: 3.1623e-10\n",
      "Epoch 77/100\n",
      "219/219 [==============================] - 1s 5ms/step - loss: 0.2588 - val_loss: 0.2739 - lr: 3.1623e-10\n",
      "Epoch 78/100\n",
      "219/219 [==============================] - 1s 6ms/step - loss: 0.2588 - val_loss: 0.2739 - lr: 3.1623e-10\n",
      "Epoch 79/100\n",
      "219/219 [==============================] - 1s 6ms/step - loss: 0.2588 - val_loss: 0.2739 - lr: 3.1623e-10\n",
      "Epoch 80/100\n",
      "219/219 [==============================] - 1s 6ms/step - loss: 0.2588 - val_loss: 0.2739 - lr: 1.0000e-10\n",
      "Epoch 81/100\n",
      "219/219 [==============================] - 1s 6ms/step - loss: 0.2588 - val_loss: 0.2739 - lr: 1.0000e-10\n",
      "Epoch 82/100\n",
      "219/219 [==============================] - 1s 6ms/step - loss: 0.2588 - val_loss: 0.2739 - lr: 1.0000e-10\n",
      "Epoch 83/100\n",
      "219/219 [==============================] - 1s 6ms/step - loss: 0.2588 - val_loss: 0.2739 - lr: 1.0000e-10\n",
      "Epoch 84/100\n",
      "219/219 [==============================] - 1s 6ms/step - loss: 0.2588 - val_loss: 0.2739 - lr: 5.0000e-11\n",
      "Epoch 85/100\n",
      "219/219 [==============================] - 1s 6ms/step - loss: 0.2588 - val_loss: 0.2739 - lr: 5.0000e-11\n",
      "Epoch 86/100\n",
      "219/219 [==============================] - 1s 6ms/step - loss: 0.2588 - val_loss: 0.2739 - lr: 5.0000e-11\n",
      "Epoch 87/100\n",
      "219/219 [==============================] - 1s 6ms/step - loss: 0.2588 - val_loss: 0.2739 - lr: 5.0000e-11\n",
      "Epoch 88/100\n",
      "219/219 [==============================] - 1s 6ms/step - loss: 0.2588 - val_loss: 0.2739 - lr: 5.0000e-11\n",
      "Epoch 89/100\n",
      "219/219 [==============================] - 1s 6ms/step - loss: 0.2588 - val_loss: 0.2739 - lr: 5.0000e-11\n",
      "Epoch 90/100\n",
      "219/219 [==============================] - 1s 6ms/step - loss: 0.2588 - val_loss: 0.2739 - lr: 5.0000e-11\n",
      "Epoch 91/100\n",
      "219/219 [==============================] - 1s 6ms/step - loss: 0.2588 - val_loss: 0.2739 - lr: 5.0000e-11\n",
      "Epoch 92/100\n",
      "219/219 [==============================] - 1s 6ms/step - loss: 0.2588 - val_loss: 0.2739 - lr: 5.0000e-11\n",
      "Epoch 93/100\n",
      "219/219 [==============================] - 1s 5ms/step - loss: 0.2588 - val_loss: 0.2739 - lr: 5.0000e-11\n",
      "Epoch 94/100\n",
      "219/219 [==============================] - 1s 6ms/step - loss: 0.2588 - val_loss: 0.2739 - lr: 5.0000e-11\n",
      "Epoch 95/100\n",
      "219/219 [==============================] - 1s 6ms/step - loss: 0.2588 - val_loss: 0.2739 - lr: 5.0000e-11\n",
      "Epoch 96/100\n",
      "219/219 [==============================] - 1s 6ms/step - loss: 0.2588 - val_loss: 0.2739 - lr: 5.0000e-11\n",
      "Epoch 97/100\n",
      "219/219 [==============================] - 1s 6ms/step - loss: 0.2588 - val_loss: 0.2739 - lr: 5.0000e-11\n",
      "Epoch 98/100\n",
      "219/219 [==============================] - 1s 6ms/step - loss: 0.2588 - val_loss: 0.2739 - lr: 5.0000e-11\n",
      "Epoch 99/100\n",
      "219/219 [==============================] - 1s 6ms/step - loss: 0.2588 - val_loss: 0.2739 - lr: 5.0000e-11\n",
      "Epoch 100/100\n",
      "219/219 [==============================] - 1s 6ms/step - loss: 0.2588 - val_loss: 0.2739 - lr: 5.0000e-11\n",
      "130.262\n"
     ]
    }
   ],
   "source": [
    "start = time.perf_counter()\n",
    "history1 = model_n.fit(train_n, ytrain_n, epochs=epochs_number, validation_split=0.1, batch_size=bach_size, callbacks = [lr_reducer])\n",
    "elap = time.perf_counter() - start\n",
    "print('%.3f' % elap)\n",
    "\n",
    "# Get attention scores\n",
    "#enc = model.layers[1]\n",
    "attention_layer = model_n.layers[1]\n",
    "#encout = enc(train_e[0:1,:])\n",
    "e2, awts, _ = attention_layer(train_n[0:1,:])\n",
    "#print(tf.reduce_max(awts),tf.reduce_min(awts))\n",
    "awts = tf.reshape(e2,(3001,1))\n",
    "train1 = tf.reshape(train_e[0:1],(3001,1))\n",
    "#print(tf.shape(awts))\n",
    "#v = yz[:1]\n",
    "#v = tf.reshape(v,(3001,1))\n",
    "#av = tf.concat((awts,train1),axis=1)\n",
    "#print(tf.shape(av))\n",
    "#merged = tf.stack((awts,train1),axis=1)\n",
    "#print(tf.shape(merged))\n",
    "#fig, ax = plt.subplots(figsize=(10,10))\n",
    "#fig, ax = plt.subplots(ncols=2, gridspec_kw=dict(width_ratios=[5,0.5]))\n",
    "#title = 'Attention Heatmap'\n",
    "#plt.title(title,fontsize=15)\n",
    "#plt.setp(ax.get_xticklabels(), visible=False)\n",
    "#ttl = ax.title\n",
    "#ax.axis('off')\n",
    "#ttl.set_position([0.5,1.05])\n",
    "#sns.heatmap(awts[:,:])#, annot=True, cbar=True)#, ax=axs[1])\n",
    "#fig.colorbar(axs[1].collections[0], cax=axs[1])\n",
    "#plt.show()"
   ]
  },
  {
   "cell_type": "code",
   "execution_count": null,
   "id": "59ecafc1",
   "metadata": {},
   "outputs": [],
   "source": [
    "# Save model\n",
    "\n",
    "model_n.save('saved_models/Model_N')"
   ]
  },
  {
   "cell_type": "code",
   "execution_count": null,
   "id": "b3e8032b",
   "metadata": {},
   "outputs": [],
   "source": [
    "# Loss Plots #\n",
    "\n",
    "%matplotlib inline\n",
    "fig = plt.figure()\n",
    "ax = fig.add_subplot(111)\n",
    "ax.plot(history1.history['loss'])\n",
    "ax.plot(history1.history['val_loss'], '--')\n",
    "ax.legend(['loss', 'val_loss'], loc='upper right') \n",
    "plt.ylabel('Loss')\n",
    "plt.xlabel('Epoch')\n",
    "plt.title('N Channel Loss')\n",
    "plt.rcParams['figure.figsize'] = (5,5)\n",
    "plt.grid(b=True, which='major', color='#666666', linestyle='-')\n",
    "plt.show()"
   ]
  },
  {
   "cell_type": "code",
   "execution_count": 57,
   "id": "fe74fefe",
   "metadata": {},
   "outputs": [
    {
     "name": "stdout",
     "output_type": "stream",
     "text": [
      "(2428, 1)\n"
     ]
    }
   ],
   "source": [
    "# Uncertainty Quantification #\n",
    "\n",
    "mc_num = 50\n",
    "ep_n = uq_ec(train_n,model_n,bach_size,mc_num)\n",
    "ep_n = np.reshape(ep_n,(2428,1))\n",
    "print(ep_n.shape)"
   ]
  },
  {
   "cell_type": "code",
   "execution_count": 58,
   "id": "be0cee56",
   "metadata": {},
   "outputs": [
    {
     "data": {
      "image/png": "[encoded data removed]",
      "text/plain": [
       "<Figure size 360x360 with 1 Axes>"
      ]
     },
     "metadata": {
      "needs_background": "light"
     },
     "output_type": "display_data"
    }
   ],
   "source": [
    "# Visualise\n",
    "\n",
    "plt.figure()\n",
    "plt.plot(ytrain_n, ep_n, 'bo', alpha=0.4)\n",
    "plt.xlabel('Magnitude')\n",
    "plt.ylabel('Epistemic Uncertainty')\n",
    "plt.title('Epistemic Uncertainty: Channel N')\n",
    "plt.show() "
   ]
  },
  {
   "cell_type": "code",
   "execution_count": 60,
   "id": "49872894",
   "metadata": {},
   "outputs": [
    {
     "name": "stdout",
     "output_type": "stream",
     "text": [
      "9/9 [==============================] - 0s 5ms/step - loss: 0.2514\n",
      "test loss:  0.25140395760536194\n",
      "9/9 [==============================] - 0s 5ms/step\n"
     ]
    }
   ],
   "source": [
    "# Evaluate\n",
    "\n",
    "eva1 = model_n.evaluate(test_n, ytest_n)\n",
    "print('test loss: ',eva1)\n",
    "\n",
    "predic1 = model_n.predict(test_n)"
   ]
  },
  {
   "cell_type": "code",
   "execution_count": 61,
   "id": "df8a086e",
   "metadata": {},
   "outputs": [
    {
     "data": {
      "text/plain": [
       "Text(0.5, 1.0, 'Measured Vs. Predicted: Channel N')"
      ]
     },
     "execution_count": 61,
     "metadata": {},
     "output_type": "execute_result"
    },
    {
     "data": {
      "image/png": "[encoded data removed]",
      "text/plain": [
       "<Figure size 360x360 with 1 Axes>"
      ]
     },
     "metadata": {
      "needs_background": "light"
     },
     "output_type": "display_data"
    }
   ],
   "source": [
    "# Measured Vs. Predicted\n",
    "\n",
    "fig, ax = plt.subplots()\n",
    "ax.scatter(ytest_n, predic1, alpha = 0.4, facecolors='none', edgecolors='b')\n",
    "ax.plot([ytest_n.min(), ytest_n.max()], [ytest_n.min(), ytest_n.max()], 'k--', alpha=0.4, lw=2)\n",
    "ax.set_xlabel('Measured')\n",
    "ax.set_ylabel('Predicted')\n",
    "ax.set_title('Measured Vs. Predicted: Channel N')"
   ]
  },
  {
   "cell_type": "markdown",
   "id": "c654c0b1",
   "metadata": {},
   "source": [
    "# Training channel Z"
   ]
  },
  {
   "cell_type": "code",
   "execution_count": 62,
   "id": "c4290ef0",
   "metadata": {},
   "outputs": [
    {
     "name": "stdout",
     "output_type": "stream",
     "text": [
      "KerasTensor(type_spec=TensorSpec(shape=(3,), dtype=tf.int32, name=None), inferred_value=[None, 3001, 1], name='tf.compat.v1.shape_3/Shape:0', description=\"created by layer 'tf.compat.v1.shape_3'\")\n",
      "Model: \"model_2\"\n",
      "_________________________________________________________________\n",
      " Layer (type)                Output Shape              Param #   \n",
      "=================================================================\n",
      " input_layer (InputLayer)    [(None, 3001, 1)]         0         \n",
      "                                                                 \n",
      " attention1_2 (attention1)   ((None, 3001, 1),         3002      \n",
      "                              (None, 3001, 1),                   \n",
      "                              (None, 3001, 1))                   \n",
      "                                                                 \n",
      " max_pooling1d_4 (MaxPooling  (None, 101, 1)           0         \n",
      " 1D)                                                             \n",
      "                                                                 \n",
      " max_pooling1d_5 (MaxPooling  (None, 11, 1)            0         \n",
      " 1D)                                                             \n",
      "                                                                 \n",
      " bidirectional_2 (Bidirectio  (None, 140)              40320     \n",
      " nal)                                                            \n",
      "                                                                 \n",
      " dense_2 (Dense)             (None, 1)                 141       \n",
      "                                                                 \n",
      " output_layer (Activation)   (None, 1)                 0         \n",
      "                                                                 \n",
      "=================================================================\n",
      "Total params: 43,463\n",
      "Trainable params: 43,463\n",
      "Non-trainable params: 0\n",
      "_________________________________________________________________\n"
     ]
    }
   ],
   "source": [
    "# Training the third channel: Z\n",
    "epochs_number = 100\n",
    "bach_size = 10\n",
    "drop_rate = 0.2\n",
    "\n",
    "#strategy = tf.distribute.MirroredStrategy()\n",
    "\n",
    "#with strategy.scope():\n",
    "\n",
    "inp = Input(shape=(3001,1), dtype='float32', name='input_layer') \n",
    "#inp = tf.cast(inp, tf.int32)\n",
    "# Embed frequency data #\n",
    "#freq_embed = F2V(750,3001)(inp)\n",
    "#freq_embed = tf.cast(freq_embed, tf.float32)\n",
    "#print(K.get_value(e[:50]))\n",
    "#encoder = Bidirectional(LSTM(50, return_sequences=True, dropout=0.0, recurrent_dropout=0.0))(inp)\n",
    "#print(tf.shape(e))\n",
    "#e = tf.reshape(e,(1500,200))\n",
    "e1, awts, attn_out = attention1()(inp)\n",
    "#awts = awts.numpy()\n",
    "#print(type(a))\n",
    "#attn_out = tf.reshape(attn_out,(1500,200))\n",
    "#e = tf.expand_dims(attn_out,axis=2)\n",
    "print(tf.shape(attn_out))\n",
    "\n",
    "#c1 = Conv1D(64,20,padding='same')(attn_out)\n",
    "m1 = MaxPooling1D(30,padding='same')(attn_out)\n",
    "#c2 = Conv1D(64,20,padding='same')(m1)\n",
    "m2 = MaxPooling1D(10,padding='same')(m1)\n",
    "\n",
    "e = Bidirectional(LSTM(70,return_sequences=False,dropout=0.0,recurrent_dropout=0.0))(m2)\n",
    "\n",
    "d = Dense(1)(e)\n",
    "o = Activation('linear', name='output_layer')(d)\n",
    "\n",
    "model_z = Model(inputs=[inp], outputs=o)\n",
    "\n",
    "model_z.compile(optimizer='Adam', loss='MSE')\n",
    "\n",
    "lr_reducer = ReduceLROnPlateau(monitor='val_loss',\n",
    "                               factor=np.sqrt(0.1),\n",
    "                                patience= 4,\n",
    "                               min_lr=0.5e-10\n",
    "                              )\n",
    "model_z.summary()"
   ]
  },
  {
   "cell_type": "code",
   "execution_count": 63,
   "id": "4521cf45",
   "metadata": {},
   "outputs": [
    {
     "name": "stdout",
     "output_type": "stream",
     "text": [
      "Epoch 1/100\n",
      "219/219 [==============================] - 4s 8ms/step - loss: 1.4291 - val_loss: 0.3765 - lr: 0.0010\n",
      "Epoch 2/100\n",
      "219/219 [==============================] - 1s 5ms/step - loss: 0.3347 - val_loss: 0.3012 - lr: 0.0010\n",
      "Epoch 3/100\n",
      "219/219 [==============================] - 1s 5ms/step - loss: 0.2871 - val_loss: 0.3052 - lr: 0.0010\n",
      "Epoch 4/100\n",
      "219/219 [==============================] - 1s 5ms/step - loss: 0.2747 - val_loss: 0.2843 - lr: 0.0010\n",
      "Epoch 5/100\n",
      "219/219 [==============================] - 1s 5ms/step - loss: 0.2727 - val_loss: 0.2430 - lr: 0.0010\n",
      "Epoch 6/100\n",
      "219/219 [==============================] - 1s 5ms/step - loss: 0.3493 - val_loss: 0.3266 - lr: 0.0010\n",
      "Epoch 7/100\n",
      "219/219 [==============================] - 1s 5ms/step - loss: 0.3227 - val_loss: 0.3039 - lr: 0.0010\n",
      "Epoch 8/100\n",
      "219/219 [==============================] - 1s 5ms/step - loss: 0.3302 - val_loss: 0.3022 - lr: 0.0010\n",
      "Epoch 9/100\n",
      "219/219 [==============================] - 1s 5ms/step - loss: 0.3206 - val_loss: 0.3382 - lr: 0.0010\n",
      "Epoch 10/100\n",
      "219/219 [==============================] - 1s 5ms/step - loss: 0.2937 - val_loss: 0.2823 - lr: 3.1623e-04\n",
      "Epoch 11/100\n",
      "219/219 [==============================] - 1s 5ms/step - loss: 0.2941 - val_loss: 0.2825 - lr: 3.1623e-04\n",
      "Epoch 12/100\n",
      "219/219 [==============================] - 1s 5ms/step - loss: 0.2884 - val_loss: 0.2741 - lr: 3.1623e-04\n",
      "Epoch 13/100\n",
      "219/219 [==============================] - 1s 5ms/step - loss: 0.2905 - val_loss: 0.2753 - lr: 3.1623e-04\n",
      "Epoch 14/100\n",
      "219/219 [==============================] - 1s 5ms/step - loss: 0.2825 - val_loss: 0.2699 - lr: 1.0000e-04\n",
      "Epoch 15/100\n",
      "219/219 [==============================] - 1s 5ms/step - loss: 0.2778 - val_loss: 0.2734 - lr: 1.0000e-04\n",
      "Epoch 16/100\n",
      "219/219 [==============================] - 1s 5ms/step - loss: 0.2697 - val_loss: 0.2608 - lr: 1.0000e-04\n",
      "Epoch 17/100\n",
      "219/219 [==============================] - 1s 5ms/step - loss: 0.2721 - val_loss: 0.2624 - lr: 1.0000e-04\n",
      "Epoch 18/100\n",
      "219/219 [==============================] - 1s 5ms/step - loss: 0.2738 - val_loss: 0.2654 - lr: 3.1623e-05\n",
      "Epoch 19/100\n",
      "219/219 [==============================] - 1s 5ms/step - loss: 0.2718 - val_loss: 0.2660 - lr: 3.1623e-05\n",
      "Epoch 20/100\n",
      "219/219 [==============================] - 1s 5ms/step - loss: 0.2711 - val_loss: 0.2603 - lr: 3.1623e-05\n",
      "Epoch 21/100\n",
      "219/219 [==============================] - 1s 5ms/step - loss: 0.2699 - val_loss: 0.2595 - lr: 3.1623e-05\n",
      "Epoch 22/100\n",
      "219/219 [==============================] - 1s 5ms/step - loss: 0.2676 - val_loss: 0.2608 - lr: 1.0000e-05\n",
      "Epoch 23/100\n",
      "219/219 [==============================] - 1s 5ms/step - loss: 0.2672 - val_loss: 0.2602 - lr: 1.0000e-05\n",
      "Epoch 24/100\n",
      "219/219 [==============================] - 1s 6ms/step - loss: 0.2668 - val_loss: 0.2589 - lr: 1.0000e-05\n",
      "Epoch 25/100\n",
      "219/219 [==============================] - 1s 5ms/step - loss: 0.2663 - val_loss: 0.2588 - lr: 1.0000e-05\n",
      "Epoch 26/100\n",
      "219/219 [==============================] - 1s 5ms/step - loss: 0.2657 - val_loss: 0.2583 - lr: 3.1623e-06\n",
      "Epoch 27/100\n",
      "219/219 [==============================] - 1s 5ms/step - loss: 0.2655 - val_loss: 0.2582 - lr: 3.1623e-06\n",
      "Epoch 28/100\n",
      "219/219 [==============================] - 1s 5ms/step - loss: 0.2654 - val_loss: 0.2576 - lr: 3.1623e-06\n",
      "Epoch 29/100\n",
      "219/219 [==============================] - 1s 5ms/step - loss: 0.2651 - val_loss: 0.2578 - lr: 3.1623e-06\n",
      "Epoch 30/100\n",
      "219/219 [==============================] - 1s 5ms/step - loss: 0.2648 - val_loss: 0.2576 - lr: 1.0000e-06\n",
      "Epoch 31/100\n",
      "219/219 [==============================] - 1s 5ms/step - loss: 0.2648 - val_loss: 0.2575 - lr: 1.0000e-06\n",
      "Epoch 32/100\n",
      "219/219 [==============================] - 1s 6ms/step - loss: 0.2648 - val_loss: 0.2575 - lr: 1.0000e-06\n",
      "Epoch 33/100\n",
      "219/219 [==============================] - 1s 6ms/step - loss: 0.2647 - val_loss: 0.2574 - lr: 1.0000e-06\n",
      "Epoch 34/100\n",
      "219/219 [==============================] - 1s 5ms/step - loss: 0.2646 - val_loss: 0.2574 - lr: 3.1623e-07\n",
      "Epoch 35/100\n",
      "219/219 [==============================] - 1s 5ms/step - loss: 0.2646 - val_loss: 0.2574 - lr: 3.1623e-07\n",
      "Epoch 36/100\n",
      "219/219 [==============================] - 1s 5ms/step - loss: 0.2646 - val_loss: 0.2573 - lr: 3.1623e-07\n",
      "Epoch 37/100\n",
      "219/219 [==============================] - 1s 5ms/step - loss: 0.2645 - val_loss: 0.2573 - lr: 3.1623e-07\n",
      "Epoch 38/100\n",
      "219/219 [==============================] - 1s 5ms/step - loss: 0.2645 - val_loss: 0.2573 - lr: 1.0000e-07\n",
      "Epoch 39/100\n",
      "219/219 [==============================] - 1s 5ms/step - loss: 0.2645 - val_loss: 0.2573 - lr: 1.0000e-07\n",
      "Epoch 40/100\n",
      "219/219 [==============================] - 1s 5ms/step - loss: 0.2645 - val_loss: 0.2573 - lr: 1.0000e-07\n",
      "Epoch 41/100\n",
      "219/219 [==============================] - 1s 5ms/step - loss: 0.2645 - val_loss: 0.2573 - lr: 1.0000e-07\n",
      "Epoch 42/100\n",
      "219/219 [==============================] - 1s 5ms/step - loss: 0.2645 - val_loss: 0.2573 - lr: 3.1623e-08\n",
      "Epoch 43/100\n",
      "219/219 [==============================] - 1s 5ms/step - loss: 0.2645 - val_loss: 0.2573 - lr: 3.1623e-08\n",
      "Epoch 44/100\n",
      "219/219 [==============================] - 1s 5ms/step - loss: 0.2645 - val_loss: 0.2573 - lr: 3.1623e-08\n",
      "Epoch 45/100\n",
      "219/219 [==============================] - 1s 5ms/step - loss: 0.2645 - val_loss: 0.2573 - lr: 3.1623e-08\n",
      "Epoch 46/100\n",
      "219/219 [==============================] - 1s 5ms/step - loss: 0.2645 - val_loss: 0.2573 - lr: 1.0000e-08\n",
      "Epoch 47/100\n",
      "219/219 [==============================] - 1s 6ms/step - loss: 0.2645 - val_loss: 0.2573 - lr: 1.0000e-08\n",
      "Epoch 48/100\n",
      "219/219 [==============================] - 1s 5ms/step - loss: 0.2645 - val_loss: 0.2573 - lr: 1.0000e-08\n",
      "Epoch 49/100\n",
      "219/219 [==============================] - 1s 5ms/step - loss: 0.2645 - val_loss: 0.2573 - lr: 1.0000e-08\n",
      "Epoch 50/100\n",
      "219/219 [==============================] - 1s 5ms/step - loss: 0.2645 - val_loss: 0.2573 - lr: 3.1623e-09\n",
      "Epoch 51/100\n",
      "219/219 [==============================] - 1s 5ms/step - loss: 0.2645 - val_loss: 0.2573 - lr: 3.1623e-09\n",
      "Epoch 52/100\n",
      "219/219 [==============================] - 1s 5ms/step - loss: 0.2645 - val_loss: 0.2573 - lr: 3.1623e-09\n",
      "Epoch 53/100\n",
      "219/219 [==============================] - 1s 5ms/step - loss: 0.2645 - val_loss: 0.2573 - lr: 3.1623e-09\n",
      "Epoch 54/100\n",
      "219/219 [==============================] - 1s 5ms/step - loss: 0.2645 - val_loss: 0.2573 - lr: 1.0000e-09\n",
      "Epoch 55/100\n",
      "219/219 [==============================] - 1s 5ms/step - loss: 0.2645 - val_loss: 0.2573 - lr: 1.0000e-09\n",
      "Epoch 56/100\n",
      "219/219 [==============================] - 1s 5ms/step - loss: 0.2645 - val_loss: 0.2573 - lr: 1.0000e-09\n",
      "Epoch 57/100\n",
      "219/219 [==============================] - 1s 5ms/step - loss: 0.2645 - val_loss: 0.2573 - lr: 1.0000e-09\n",
      "Epoch 58/100\n",
      "219/219 [==============================] - 1s 5ms/step - loss: 0.2645 - val_loss: 0.2573 - lr: 3.1623e-10\n",
      "Epoch 59/100\n",
      "219/219 [==============================] - 1s 5ms/step - loss: 0.2645 - val_loss: 0.2573 - lr: 3.1623e-10\n",
      "Epoch 60/100\n",
      "219/219 [==============================] - 1s 5ms/step - loss: 0.2645 - val_loss: 0.2573 - lr: 3.1623e-10\n",
      "Epoch 61/100\n",
      "219/219 [==============================] - 1s 5ms/step - loss: 0.2645 - val_loss: 0.2573 - lr: 3.1623e-10\n",
      "Epoch 62/100\n",
      "219/219 [==============================] - 1s 5ms/step - loss: 0.2645 - val_loss: 0.2573 - lr: 1.0000e-10\n",
      "Epoch 63/100\n",
      "219/219 [==============================] - 1s 5ms/step - loss: 0.2645 - val_loss: 0.2573 - lr: 1.0000e-10\n",
      "Epoch 64/100\n",
      "219/219 [==============================] - 1s 5ms/step - loss: 0.2645 - val_loss: 0.2573 - lr: 1.0000e-10\n",
      "Epoch 65/100\n",
      "219/219 [==============================] - 1s 5ms/step - loss: 0.2645 - val_loss: 0.2573 - lr: 1.0000e-10\n",
      "Epoch 66/100\n",
      "219/219 [==============================] - 1s 6ms/step - loss: 0.2645 - val_loss: 0.2573 - lr: 5.0000e-11\n",
      "Epoch 67/100\n",
      "219/219 [==============================] - 1s 6ms/step - loss: 0.2645 - val_loss: 0.2573 - lr: 5.0000e-11\n",
      "Epoch 68/100\n",
      "219/219 [==============================] - 1s 6ms/step - loss: 0.2645 - val_loss: 0.2573 - lr: 5.0000e-11\n",
      "Epoch 69/100\n",
      "219/219 [==============================] - 1s 6ms/step - loss: 0.2645 - val_loss: 0.2573 - lr: 5.0000e-11\n",
      "Epoch 70/100\n"
     ]
    },
    {
     "name": "stdout",
     "output_type": "stream",
     "text": [
      "219/219 [==============================] - 1s 6ms/step - loss: 0.2645 - val_loss: 0.2573 - lr: 5.0000e-11\n",
      "Epoch 71/100\n",
      "219/219 [==============================] - 1s 5ms/step - loss: 0.2645 - val_loss: 0.2573 - lr: 5.0000e-11\n",
      "Epoch 72/100\n",
      "219/219 [==============================] - 1s 5ms/step - loss: 0.2645 - val_loss: 0.2573 - lr: 5.0000e-11\n",
      "Epoch 73/100\n",
      "219/219 [==============================] - 1s 5ms/step - loss: 0.2645 - val_loss: 0.2573 - lr: 5.0000e-11\n",
      "Epoch 74/100\n",
      "219/219 [==============================] - 1s 5ms/step - loss: 0.2645 - val_loss: 0.2573 - lr: 5.0000e-11\n",
      "Epoch 75/100\n",
      "219/219 [==============================] - 1s 6ms/step - loss: 0.2645 - val_loss: 0.2573 - lr: 5.0000e-11\n",
      "Epoch 76/100\n",
      "219/219 [==============================] - 1s 5ms/step - loss: 0.2645 - val_loss: 0.2573 - lr: 5.0000e-11\n",
      "Epoch 77/100\n",
      "219/219 [==============================] - 1s 6ms/step - loss: 0.2645 - val_loss: 0.2573 - lr: 5.0000e-11\n",
      "Epoch 78/100\n",
      "219/219 [==============================] - 1s 5ms/step - loss: 0.2645 - val_loss: 0.2573 - lr: 5.0000e-11\n",
      "Epoch 79/100\n",
      "219/219 [==============================] - 1s 5ms/step - loss: 0.2645 - val_loss: 0.2573 - lr: 5.0000e-11\n",
      "Epoch 80/100\n",
      "219/219 [==============================] - 1s 5ms/step - loss: 0.2645 - val_loss: 0.2573 - lr: 5.0000e-11\n",
      "Epoch 81/100\n",
      "219/219 [==============================] - 1s 5ms/step - loss: 0.2645 - val_loss: 0.2573 - lr: 5.0000e-11\n",
      "Epoch 82/100\n",
      "219/219 [==============================] - 1s 5ms/step - loss: 0.2645 - val_loss: 0.2573 - lr: 5.0000e-11\n",
      "Epoch 83/100\n",
      "219/219 [==============================] - 1s 5ms/step - loss: 0.2645 - val_loss: 0.2573 - lr: 5.0000e-11\n",
      "Epoch 84/100\n",
      "219/219 [==============================] - 1s 5ms/step - loss: 0.2645 - val_loss: 0.2573 - lr: 5.0000e-11\n",
      "Epoch 85/100\n",
      "219/219 [==============================] - 1s 5ms/step - loss: 0.2645 - val_loss: 0.2573 - lr: 5.0000e-11\n",
      "Epoch 86/100\n",
      "219/219 [==============================] - 1s 5ms/step - loss: 0.2645 - val_loss: 0.2573 - lr: 5.0000e-11\n",
      "Epoch 87/100\n",
      "219/219 [==============================] - 1s 5ms/step - loss: 0.2645 - val_loss: 0.2573 - lr: 5.0000e-11\n",
      "Epoch 88/100\n",
      "219/219 [==============================] - 1s 6ms/step - loss: 0.2645 - val_loss: 0.2573 - lr: 5.0000e-11\n",
      "Epoch 89/100\n",
      "219/219 [==============================] - 1s 5ms/step - loss: 0.2645 - val_loss: 0.2573 - lr: 5.0000e-11\n",
      "Epoch 90/100\n",
      "219/219 [==============================] - 1s 5ms/step - loss: 0.2645 - val_loss: 0.2573 - lr: 5.0000e-11\n",
      "Epoch 91/100\n",
      "219/219 [==============================] - 1s 5ms/step - loss: 0.2645 - val_loss: 0.2573 - lr: 5.0000e-11\n",
      "Epoch 92/100\n",
      "219/219 [==============================] - 1s 5ms/step - loss: 0.2645 - val_loss: 0.2573 - lr: 5.0000e-11\n",
      "Epoch 93/100\n",
      "219/219 [==============================] - 1s 5ms/step - loss: 0.2645 - val_loss: 0.2573 - lr: 5.0000e-11\n",
      "Epoch 94/100\n",
      "219/219 [==============================] - 1s 5ms/step - loss: 0.2645 - val_loss: 0.2573 - lr: 5.0000e-11\n",
      "Epoch 95/100\n",
      "219/219 [==============================] - 1s 5ms/step - loss: 0.2645 - val_loss: 0.2573 - lr: 5.0000e-11\n",
      "Epoch 96/100\n",
      "219/219 [==============================] - 1s 5ms/step - loss: 0.2645 - val_loss: 0.2573 - lr: 5.0000e-11\n",
      "Epoch 97/100\n",
      "219/219 [==============================] - 1s 5ms/step - loss: 0.2645 - val_loss: 0.2573 - lr: 5.0000e-11\n",
      "Epoch 98/100\n",
      "219/219 [==============================] - 1s 6ms/step - loss: 0.2645 - val_loss: 0.2573 - lr: 5.0000e-11\n",
      "Epoch 99/100\n",
      "219/219 [==============================] - 1s 6ms/step - loss: 0.2645 - val_loss: 0.2573 - lr: 5.0000e-11\n",
      "Epoch 100/100\n",
      "219/219 [==============================] - 1s 6ms/step - loss: 0.2645 - val_loss: 0.2573 - lr: 5.0000e-11\n",
      "121.004\n"
     ]
    }
   ],
   "source": [
    "start = time.perf_counter()\n",
    "history2 = model_z.fit(train_z, ytrain_z, epochs=epochs_number, validation_split=0.1, batch_size=bach_size, callbacks = [lr_reducer])\n",
    "elap = time.perf_counter() - start\n",
    "print('%.3f' % elap)\n",
    "\n",
    "# Get attention scores\n",
    "#enc = model.layers[1]\n",
    "attention_layer = model_z.layers[1]\n",
    "#encout = enc(train_e[0:1,:])\n",
    "e2, awts, _ = attention_layer(train_z[0:1,:])\n",
    "#print(tf.reduce_max(awts),tf.reduce_min(awts))\n",
    "awts = tf.reshape(e2,(3001,1))\n",
    "train1 = tf.reshape(train_e[0:1],(3001,1))\n",
    "#print(tf.shape(awts))\n",
    "#v = yz[:1]\n",
    "#v = tf.reshape(v,(3001,1))\n",
    "#av = tf.concat((awts,train1),axis=1)\n",
    "#print(tf.shape(av))\n",
    "#merged = tf.stack((awts,train1),axis=1)\n",
    "#print(tf.shape(merged))\n",
    "#fig, ax = plt.subplots(figsize=(10,10))\n",
    "#fig, ax = plt.subplots(ncols=2, gridspec_kw=dict(width_ratios=[5,0.5]))\n",
    "#title = 'Attention Heatmap'\n",
    "#plt.title(title,fontsize=15)\n",
    "#plt.setp(ax.get_xticklabels(), visible=False)\n",
    "#ttl = ax.title\n",
    "#ax.axis('off')\n",
    "#ttl.set_position([0.5,1.05])\n",
    "#sns.heatmap(awts[:,:])#, annot=True, cbar=True)#, ax=axs[1])\n",
    "#fig.colorbar(axs[1].collections[0], cax=axs[1])\n",
    "#plt.show()"
   ]
  },
  {
   "cell_type": "code",
   "execution_count": null,
   "id": "f6a5d1e2",
   "metadata": {},
   "outputs": [],
   "source": [
    "# Save model\n",
    "\n",
    "model_z.save('saved_models/Model_Z')"
   ]
  },
  {
   "cell_type": "code",
   "execution_count": null,
   "id": "c87913d3",
   "metadata": {},
   "outputs": [],
   "source": [
    "# Loss Plots #\n",
    "\n",
    "%matplotlib inline\n",
    "fig = plt.figure()\n",
    "ax = fig.add_subplot(111)\n",
    "ax.plot(history2.history['loss'])\n",
    "ax.plot(history2.history['val_loss'], '--')\n",
    "ax.legend(['loss', 'val_loss'], loc='upper right') \n",
    "plt.ylabel('Loss')\n",
    "plt.xlabel('Epoch')\n",
    "plt.title('Z Channel Loss')\n",
    "plt.rcParams['figure.figsize'] = (5,5)\n",
    "plt.grid(b=True, which='major', color='#666666', linestyle='-')\n",
    "plt.show()"
   ]
  },
  {
   "cell_type": "code",
   "execution_count": 64,
   "id": "8ec54074",
   "metadata": {},
   "outputs": [
    {
     "name": "stdout",
     "output_type": "stream",
     "text": [
      "(2428, 1)\n"
     ]
    }
   ],
   "source": [
    "# Uncertainty Quantification #\n",
    "\n",
    "mc_num = 50\n",
    "ep_z = uq_ec(train_z,model_z,bach_size,mc_num)\n",
    "ep_z = np.reshape(ep_z,(2428,1))\n",
    "print(ep_z.shape)"
   ]
  },
  {
   "cell_type": "code",
   "execution_count": 65,
   "id": "36feb15d",
   "metadata": {},
   "outputs": [
    {
     "data": {
      "image/png": "[encoded data removed]",
      "text/plain": [
       "<Figure size 360x360 with 1 Axes>"
      ]
     },
     "metadata": {
      "needs_background": "light"
     },
     "output_type": "display_data"
    }
   ],
   "source": [
    "# Visualise\n",
    "\n",
    "plt.figure()\n",
    "plt.plot(ytrain_z, ep_z, 'go', alpha=0.4)\n",
    "plt.xlabel('Magnitude')\n",
    "plt.ylabel('Epistemic Uncertainty')\n",
    "plt.title('Epistemic Uncertainty: Channel Z')\n",
    "plt.show() "
   ]
  },
  {
   "cell_type": "code",
   "execution_count": 66,
   "id": "8ac7ea42",
   "metadata": {},
   "outputs": [
    {
     "name": "stdout",
     "output_type": "stream",
     "text": [
      "9/9 [==============================] - 0s 6ms/step - loss: 0.2885\n",
      "test loss:  0.25140395760536194\n",
      "9/9 [==============================] - 0s 5ms/step\n"
     ]
    }
   ],
   "source": [
    "# Evaluate\n",
    "\n",
    "eva2 = model_z.evaluate(test_z, ytest_z)\n",
    "print('test loss: ',eva1)\n",
    "\n",
    "predic2 = model_z.predict(test_z)"
   ]
  },
  {
   "cell_type": "code",
   "execution_count": 67,
   "id": "22662e09",
   "metadata": {},
   "outputs": [
    {
     "data": {
      "text/plain": [
       "Text(0.5, 1.0, 'Measured Vs. Predicted: Channel Z')"
      ]
     },
     "execution_count": 67,
     "metadata": {},
     "output_type": "execute_result"
    },
    {
     "data": {
      "image/png": "[encoded data removed]",
      "text/plain": [
       "<Figure size 360x360 with 1 Axes>"
      ]
     },
     "metadata": {
      "needs_background": "light"
     },
     "output_type": "display_data"
    }
   ],
   "source": [
    "# Measured Vs. Predicted\n",
    "\n",
    "fig, ax = plt.subplots()\n",
    "ax.scatter(ytest_z, predic2, alpha = 0.4, facecolors='none', edgecolors='g')\n",
    "ax.plot([ytest_z.min(), ytest_z.max()], [ytest_z.min(), ytest_z.max()], 'k--', alpha=0.4, lw=2)\n",
    "ax.set_xlabel('Measured')\n",
    "ax.set_ylabel('Predicted')\n",
    "ax.set_title('Measured Vs. Predicted: Channel Z')"
   ]
  },
  {
   "cell_type": "code",
   "execution_count": null,
   "id": "2caf22a1",
   "metadata": {},
   "outputs": [],
   "source": []
  }
 ],
 "metadata": {
  "kernelspec": {
   "display_name": "Python 3 (ipykernel)",
   "language": "python",
   "name": "python3"
  },
  "language_info": {
   "codemirror_mode": {
    "name": "ipython",
    "version": 3
   },
   "file_extension": ".py",
   "mimetype": "text/x-python",
   "name": "python",
   "nbconvert_exporter": "python",
   "pygments_lexer": "ipython3",
   "version": "3.9.7"
  }
 },
 "nbformat": 4,
 "nbformat_minor": 5
}
