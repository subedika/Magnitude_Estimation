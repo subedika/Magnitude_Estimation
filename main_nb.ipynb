{
 "cells": [
  {
   "cell_type": "code",
   "execution_count": null,
   "id": "7e1e7665",
   "metadata": {},
   "outputs": [],
   "source": [
    "!pip install tensorflow==2.10.0"
   ]
  },
  {
   "cell_type": "code",
   "execution_count": null,
   "id": "ebcfbb4a",
   "metadata": {},
   "outputs": [],
   "source": [
    "!pip install pyyaml"
   ]
  },
  {
   "cell_type": "code",
   "execution_count": null,
   "id": "7e6f1bde",
   "metadata": {},
   "outputs": [],
   "source": [
    "!pip install plotly\n",
    "!pip install seaborn"
   ]
  },
  {
   "cell_type": "code",
   "execution_count": null,
   "id": "05cd42e7",
   "metadata": {},
   "outputs": [],
   "source": [
    "!pip install h5py"
   ]
  },
  {
   "cell_type": "code",
   "execution_count": 1,
   "id": "fc4ff7aa",
   "metadata": {},
   "outputs": [],
   "source": [
    "import pandas as pd\n",
    "import h5py\n",
    "import plotly\n",
    "#import pyyaml\n",
    "import plotly.express as px\n",
    "import matplotlib.pyplot as plt\n",
    "from plotly.subplots import make_subplots\n",
    "import plotly.graph_objects as go\n",
    "import seaborn as sns\n",
    "import os\n",
    "import numpy as np\n",
    "import timeit\n",
    "import time\n",
    "import tensorflow as tf\n",
    "#from tensorflow import addons as tfa\n",
    "import tensorflow.keras\n",
    "import pickle as pkl\n",
    "from tensorflow.keras.layers import LSTM, Bidirectional\n",
    "from tensorflow.keras.models import Sequential\n",
    "from tensorflow.keras.layers import BatchNormalization\n",
    "from tensorflow.keras.layers import Conv2D, Conv1D, MaxPooling1D\n",
    "from tensorflow.keras.layers import MaxPooling2D\n",
    "from tensorflow.keras.layers import Activation\n",
    "from tensorflow.keras.layers import Dropout\n",
    "from tensorflow.keras.layers import Dense\n",
    "from tensorflow.keras.layers import Flatten\n",
    "from tensorflow.keras.layers import Input\n",
    "from tensorflow.keras.layers import Attention\n",
    "from tensorflow.keras.models import Model\n",
    "from tensorflow.keras import backend as K\n",
    "#import tensorflow_probability as tfp\n",
    "#from tensorflow.keras import mixed_precision\n",
    "from tensorflow.keras.callbacks import ReduceLROnPlateau\n",
    "from tensorflow.keras.optimizers import Adam\n",
    "#tf.compat.v1.disable_eager_execution()\n",
    "np.set_printoptions(suppress=True)"
   ]
  },
  {
   "cell_type": "code",
   "execution_count": null,
   "id": "d33eb381",
   "metadata": {},
   "outputs": [],
   "source": [
    "print(tf.__version__)"
   ]
  },
  {
   "cell_type": "code",
   "execution_count": null,
   "id": "e647b8e6",
   "metadata": {},
   "outputs": [],
   "source": [
    "!nvidia-smi -L"
   ]
  },
  {
   "cell_type": "code",
   "execution_count": 2,
   "id": "10f851e5",
   "metadata": {},
   "outputs": [],
   "source": [
    "# Run script for processing events metadata #\n",
    "\n",
    "%run metadata_proc.py"
   ]
  },
  {
   "cell_type": "code",
   "execution_count": 3,
   "id": "bed5950a",
   "metadata": {},
   "outputs": [
    {
     "name": "stderr",
     "output_type": "stream",
     "text": [
      "C:\\Users\\subed\\AppData\\Local\\Temp/ipykernel_22832/233287227.py:13: DtypeWarning: Columns (21) have mixed types.Specify dtype option on import or set low_memory=False.\n",
      "  d1, len1 = mda_proc(data1)\n"
     ]
    },
    {
     "name": "stdout",
     "output_type": "stream",
     "text": [
      "Index(['network_code', 'receiver_code', 'receiver_type', 'receiver_latitude',\n",
      "       'receiver_longitude', 'receiver_elevation_m', 'p_arrival_sample',\n",
      "       'p_status', 'p_weight', 'p_travel_sec', 's_arrival_sample', 's_status',\n",
      "       's_weight', 'source_id', 'source_origin_time',\n",
      "       'source_origin_uncertainty_sec', 'source_latitude', 'source_longitude',\n",
      "       'source_error_sec', 'source_gap_deg',\n",
      "       'source_horizontal_uncertainty_km', 'source_depth_km',\n",
      "       'source_depth_uncertainty_km', 'source_magnitude',\n",
      "       'source_magnitude_type', 'source_magnitude_author',\n",
      "       'source_mechanism_strike_dip_rake', 'source_distance_deg',\n",
      "       'source_distance_km', 'back_azimuth_deg', 'snr_db', 'coda_end_sample',\n",
      "       'trace_start_time', 'trace_category', 'trace_name'],\n",
      "      dtype='object')\n"
     ]
    }
   ],
   "source": [
    "# Read and load metadata #\n",
    "\n",
    "p = 'C:/Users/subed/Desktop/Research/Project_freq_domain/Codes/Stanford_Dataset'\n",
    "data1 = p + '/ch2/chunk2.csv'\n",
    "wave1 = p + '/ch2/chunk2.hdf5'\n",
    "data2 = p + '/ch3/chunk3.csv'\n",
    "wave2 = p + '/ch3/chunk3.hdf5'\n",
    "data3 = p + '/ch5/chunk5.csv'\n",
    "wave3 = p + '/ch5/chunk5.hdf5'\n",
    "data4 = p + '/ch6/chunk6.csv'\n",
    "wave4 = p + '/ch6/chunk6.hdf5'\n",
    "\n",
    "d1, len1 = mda_proc(data1)\n",
    "#d2, len2 = mda_proc(data2)\n",
    "#d3, len3 = mda_proc(data3)\n",
    "#d4, len4 = mda_proc(data4)\n",
    "\n",
    "print(d1.columns)"
   ]
  },
  {
   "cell_type": "code",
   "execution_count": 4,
   "id": "bc434ebf",
   "metadata": {},
   "outputs": [
    {
     "name": "stdout",
     "output_type": "stream",
     "text": [
      "14150\n"
     ]
    }
   ],
   "source": [
    "d2 = d1\n",
    "d2 = d2[d2.source_magnitude > 2]\n",
    "d2 = d2[d2.source_magnitude <= 10]\n",
    "d2 = d2[d2['source_depth_km'] != 'None']\n",
    "print(len(d2))"
   ]
  },
  {
   "cell_type": "code",
   "execution_count": 5,
   "id": "51883733",
   "metadata": {},
   "outputs": [],
   "source": [
    "d2 = d2[:14000]"
   ]
  },
  {
   "cell_type": "code",
   "execution_count": null,
   "id": "d178d678",
   "metadata": {},
   "outputs": [],
   "source": [
    "d2['receiver_type'].unique()"
   ]
  },
  {
   "cell_type": "code",
   "execution_count": null,
   "id": "ef9fe7cf",
   "metadata": {},
   "outputs": [],
   "source": [
    "# DO NOT RUN #\n",
    "\n",
    "mag_merge = np.concatenate((d1[['source_magnitude']],d2[['source_magnitude']],d3[['source_magnitude']],d4[['source_magnitude']]))\n",
    "baz_merge = np.concatenate((d1[['back_azimuth_deg']],d2[['back_azimuth_deg']],d3[['back_azimuth_deg']],d4[['back_azimuth_deg']])) \n",
    "depth_merge = np.concatenate((d1[['source_depth_km']],d2[['source_depth_km']],d3[['source_depth_km']],d4[['source_depth_km']]))\n",
    "snr_merge = np.concatenate((d1[['snr_db']],d2[['snr_db']],d3[['snr_db']],d4[['snr_db']]))\n",
    "dist_merge = np.concatenate((d1[['source_distance_km']],d2[['source_distance_km']],d3[['source_distance_km']],d4[['source_distance_km']]))"
   ]
  },
  {
   "cell_type": "code",
   "execution_count": 6,
   "id": "f582db9a",
   "metadata": {},
   "outputs": [],
   "source": [
    "%run plots.py"
   ]
  },
  {
   "cell_type": "code",
   "execution_count": null,
   "id": "3153ab4b",
   "metadata": {},
   "outputs": [],
   "source": [
    "# Plot some metadata --> source_magnitude, source_depth_km, back_azimuth_deg, snr_db, source distance\n",
    "\n",
    "mag_plot(d2[['source_magnitude']])"
   ]
  },
  {
   "cell_type": "code",
   "execution_count": null,
   "id": "3a9551c4",
   "metadata": {},
   "outputs": [],
   "source": [
    "snr_plot(d2[['snr_db']])"
   ]
  },
  {
   "cell_type": "code",
   "execution_count": null,
   "id": "e1c25f46",
   "metadata": {},
   "outputs": [],
   "source": [
    "azimuth_plot(d2[['back_azimuth_deg']])"
   ]
  },
  {
   "cell_type": "code",
   "execution_count": null,
   "id": "2e2e5c83",
   "metadata": {},
   "outputs": [],
   "source": [
    "depth_float = d2['source_depth_km'].astype(float)\n",
    "#print(depth_merge[0:5])\n",
    "print(depth_float[0:5])"
   ]
  },
  {
   "cell_type": "code",
   "execution_count": null,
   "id": "46899344",
   "metadata": {},
   "outputs": [],
   "source": [
    "plt.hist(d2['source_distance_km'], bins='auto', facecolor='cyan', alpha=0.75, edgecolor='black')\n",
    "plt.title('Source Distance')\n",
    "plt.xlabel('Source Distance in Km')\n",
    "plt.ylabel('Events')\n",
    "plt.show()"
   ]
  },
  {
   "cell_type": "code",
   "execution_count": null,
   "id": "4b6e5c82",
   "metadata": {},
   "outputs": [],
   "source": [
    "plt.hist(depth_float, bins=40, facecolor='orange', alpha=0.75, edgecolor='black')\n",
    "plt.title('Depth')\n",
    "plt.xlabel('Depth in Km')\n",
    "plt.ylabel('Events')\n",
    "plt.show()"
   ]
  },
  {
   "cell_type": "code",
   "execution_count": 8,
   "id": "86a6f969",
   "metadata": {},
   "outputs": [],
   "source": [
    "# Low and high mag plots\n",
    "\n",
    "lm = d2[d2.source_magnitude > 2]\n",
    "lm = lm[lm.source_magnitude <= 3]\n",
    "hm = d2[d2.source_magnitude > 3]"
   ]
  },
  {
   "cell_type": "code",
   "execution_count": 10,
   "id": "20f1b5c5",
   "metadata": {},
   "outputs": [
    {
     "data": {
      "image/png": "[encoded data removed]",
      "text/plain": [
       "<Figure size 432x288 with 1 Axes>"
      ]
     },
     "metadata": {
      "needs_background": "light"
     },
     "output_type": "display_data"
    }
   ],
   "source": [
    "plt.hist(lm['source_magnitude'], bins='auto', facecolor='r', alpha=0.75, edgecolor='black')\n",
    "plt.title(\"Magnitudes between 2.0 and 3.0\")\n",
    "plt.xlabel(\"Magnitude\")\n",
    "plt.ylabel('No. of events')\n",
    "plt.show()"
   ]
  },
  {
   "cell_type": "code",
   "execution_count": 11,
   "id": "d68af245",
   "metadata": {},
   "outputs": [
    {
     "data": {
      "image/png": "[encoded data removed]",
      "text/plain": [
       "<Figure size 432x288 with 1 Axes>"
      ]
     },
     "metadata": {
      "needs_background": "light"
     },
     "output_type": "display_data"
    }
   ],
   "source": [
    "plt.hist(hm['source_magnitude'], bins='auto', facecolor='b', alpha=0.75, edgecolor='black')\n",
    "plt.title(\"Magnitudes above 3.0\")\n",
    "plt.xlabel(\"Magnitude\")\n",
    "plt.ylabel('No. of events')\n",
    "plt.show()"
   ]
  },
  {
   "cell_type": "code",
   "execution_count": 12,
   "id": "a10dee3f",
   "metadata": {},
   "outputs": [
    {
     "data": {
      "image/png": "[encoded data removed]",
      "text/plain": [
       "<Figure size 432x288 with 1 Axes>"
      ]
     },
     "metadata": {
      "needs_background": "light"
     },
     "output_type": "display_data"
    }
   ],
   "source": [
    "# Low and high baz plots\n",
    "\n",
    "lbaz = d2[d2.back_azimuth_deg >= 0.001]\n",
    "lbaz = lbaz[lbaz.back_azimuth_deg <= 175]\n",
    "hbaz = d2[d2.back_azimuth_deg > 175]\n",
    "\n",
    "plt.hist(lbaz['back_azimuth_deg'], bins='auto', facecolor='b', alpha=0.75, edgecolor='black')\n",
    "plt.title(\"Back Azimuth between 0.001 and 175 degrees\")\n",
    "plt.xlabel(\"Back Azimuth in degrees\")\n",
    "plt.ylabel('No. of events')\n",
    "plt.show()"
   ]
  },
  {
   "cell_type": "code",
   "execution_count": 13,
   "id": "1c5dddd4",
   "metadata": {},
   "outputs": [
    {
     "data": {
      "image/png": "[encoded data removed]",
      "text/plain": [
       "<Figure size 432x288 with 1 Axes>"
      ]
     },
     "metadata": {
      "needs_background": "light"
     },
     "output_type": "display_data"
    }
   ],
   "source": [
    "plt.hist(hbaz['back_azimuth_deg'], bins='auto', facecolor='b', alpha=0.75, edgecolor='black')\n",
    "plt.title(\"Back Azimuth above 175\")\n",
    "plt.xlabel(\"Back Azimuth in degrees\")\n",
    "plt.ylabel('No. of events')\n",
    "plt.show()"
   ]
  },
  {
   "cell_type": "code",
   "execution_count": null,
   "id": "e8c9015a",
   "metadata": {},
   "outputs": [],
   "source": [
    "# Max and mins\n",
    "\n",
    "m_max,m_min = d2['source_magnitude'].max(),d2['source_magnitude'].min()\n",
    "d_max,d_min = np.max(depth_float),np.min(depth_float)\n",
    "snr_max,snr_min = d2['snr_db'].max(),d2['snr_db'].min()\n",
    "baz_max,baz_min = d2['back_azimuth_deg'].max(),d2['back_azimuth_deg'].min()\n",
    "\n",
    "print(m_max,m_min)\n",
    "print(d_max,d_min)\n",
    "print(snr_max,snr_min)\n",
    "print(baz_max,baz_min)"
   ]
  },
  {
   "cell_type": "code",
   "execution_count": null,
   "id": "664e45be",
   "metadata": {},
   "outputs": [],
   "source": [
    "def wave_proc(dt, w):\n",
    "    ev = dt['trace_name'].to_list()\n",
    "    x = np.zeros((len(dt),6000,3),np.float32)\n",
    "    y = np.zeros((len(dt),1),np.float32)\n",
    "\n",
    "    dtf = h5py.File(w,'r')\n",
    "\n",
    "    for c, evi in enumerate(ev):\n",
    "        eg = dtf.get('data/'+str(evi))\n",
    "        data = np.array(eg)\n",
    "        mag = round(float(eg.attrs['source_magnitude']),2)    \n",
    "        psamp = int(eg.attrs['p_arrival_sample'])\n",
    "        ssamp = int(eg.attrs['s_arrival_sample'])\n",
    "        BAZ = round(float(eg.attrs['back_azimuth_deg']), 2)\n",
    "        dpt = eg.attrs['source_depth_km']\n",
    "        dis = round(float(eg.attrs['source_distance_deg']), 2)\n",
    "        SNR = eg.attrs['snr_db']\n",
    "    #dshort = data[psamp-100:psamp+2900,:]\n",
    "        x[c,:,:] = data\n",
    "        y[c,0] = mag\n",
    "    \n",
    "    dtf.close()\n",
    "    return x, y, x.shape, y.shape\n"
   ]
  },
  {
   "cell_type": "code",
   "execution_count": null,
   "id": "a2d1dffe",
   "metadata": {},
   "outputs": [],
   "source": [
    "# Get waveforms of respective sets\n",
    "\n",
    "w1, m1, wlen, mlen = wave_proc(d2,wave1)\n",
    "#w2, m2, wlen2, mlen2 = wave_proc(d2,wave2)\n",
    "#w3, m3, wlen3, mlen3 = wave_proc(d3,wave3)\n",
    "#w4, m4, wlen4, mlen4 = wave_proc(d4,wave4)\n",
    "\n",
    "print(wlen, mlen)"
   ]
  },
  {
   "cell_type": "code",
   "execution_count": null,
   "id": "2c6d9c21",
   "metadata": {},
   "outputs": [],
   "source": [
    "## DO NOT RUN ##\n",
    "\n",
    "# Merge data\n",
    "\n",
    "amp_merged = np.concatenate((w1,w2,w3,w4),axis=0) \n",
    "mag_merged = np.concatenate((m1,m2,m3,m4),axis=0)\n",
    "\n",
    "print(amp_merged.shape,mag_merged.shape)"
   ]
  },
  {
   "cell_type": "code",
   "execution_count": null,
   "id": "87e273b0",
   "metadata": {},
   "outputs": [],
   "source": [
    "## DO NOT RUN ##\n",
    "\n",
    "# Slice 30s window\n",
    "\n",
    "amp_30 = amp_merged[:,:3000,:]\n",
    "\n",
    "print(amp_30.shape)"
   ]
  },
  {
   "cell_type": "code",
   "execution_count": null,
   "id": "fadc6d74",
   "metadata": {},
   "outputs": [],
   "source": [
    "# Runs script for visualising traces\n",
    "%run trace_viz.py"
   ]
  },
  {
   "cell_type": "code",
   "execution_count": null,
   "id": "96d6e5ef",
   "metadata": {},
   "outputs": [],
   "source": [
    "# Time domain plots #\n",
    "\n",
    "tplot(w1[5,:,:])"
   ]
  },
  {
   "cell_type": "code",
   "execution_count": null,
   "id": "c3b7ed93",
   "metadata": {},
   "outputs": [],
   "source": [
    "tplot(amp_30[5,:,:])"
   ]
  },
  {
   "cell_type": "code",
   "execution_count": null,
   "id": "8fc486ee",
   "metadata": {},
   "outputs": [],
   "source": [
    "# Scripts for applying Hanning taper and FFT\n",
    "%run hann_taper.py\n",
    "%run sigproc.py"
   ]
  },
  {
   "cell_type": "code",
   "execution_count": null,
   "id": "5230caf1",
   "metadata": {},
   "outputs": [],
   "source": [
    "# Applies taper and FFT to signals\n",
    "\n",
    "new_amp = np.zeros((len(w1),6000,3),np.float32)\n",
    "#amp_short = np.zeros((len(amp_30),3000,3),np.float32)\n",
    "#tap_body = np.zeros((len(df2),6000,3),np.float32)\n",
    "#tap_moment = np.zeros((len(df3),6000,3),np.float32)\n",
    "for i in range(len(w1)):\n",
    "    x1 = myHanningTaper(w1[i,:,0],0.1)\n",
    "    x2 = myHanningTaper(w1[i,:,1],0.1)\n",
    "    x3 = myHanningTaper(w1[i,:,2],0.1)\n",
    "    #g = np.hstack((x1,x2,x3))\n",
    "    #g = g.reshape(1,3000,3)\n",
    "    new_amp[i,:,0] = x1\n",
    "    new_amp[i,:,1] = x2\n",
    "    new_amp[i,:,2] = x3\n",
    "#ht = myHanningTaper(amp_merged)\n",
    "fq = fconv(new_amp, len(new_amp), 6000)\n",
    "#fq_30 = fconv(amp_short, len(amp_30), 3000)\n",
    "print(fq.shape)"
   ]
  },
  {
   "cell_type": "code",
   "execution_count": null,
   "id": "bc127f5c",
   "metadata": {},
   "outputs": [],
   "source": [
    "# Frequency domain plots #\n",
    "\n",
    "fplot(fq[5,:,:])"
   ]
  },
  {
   "cell_type": "code",
   "execution_count": null,
   "id": "dbd2d196",
   "metadata": {},
   "outputs": [],
   "source": [
    "fplot(fq_30[5,:,:])"
   ]
  },
  {
   "cell_type": "code",
   "execution_count": null,
   "id": "d4a7aa7c",
   "metadata": {},
   "outputs": [],
   "source": [
    "tf.keras.backend.clear_session()\n",
    "tf.random.set_seed(42)"
   ]
  },
  {
   "cell_type": "code",
   "execution_count": null,
   "id": "29e059f3",
   "metadata": {},
   "outputs": [],
   "source": [
    "# Runs script containing Tensorflow model layers as classes\n",
    "%run layers_class.py"
   ]
  },
  {
   "cell_type": "code",
   "execution_count": null,
   "id": "c920af2d",
   "metadata": {},
   "outputs": [],
   "source": [
    "# Train Test Split #\n",
    "\n",
    "from sklearn.model_selection import train_test_split\n",
    "\n",
    "#x1t = w1[:,:,0]\n",
    "#x2t = w1[:,:,1]\n",
    "#x3t = w1[:,:,2]\n",
    "\n",
    "#xtrain, xtest, ytrain, ytest = train_test_split(fq, m1, shuffle=True, test_size=0.1)\n",
    "#xtrain, ytrain = xtrain.reshape(len(xtrain),3001,3), ytrain.reshape(len(ytrain),1)\n",
    "#xtest, ytest = xtest.reshape(len(xtest),3001,1), ytest.reshape(len(ytest),1)\n",
    "#print(xtrain.shape, xtest.shape)\n",
    "\n",
    "x1 = fq[:,:,0]\n",
    "x2 = fq[:,:,1]\n",
    "x3 = fq[:,:,2]\n",
    "\n",
    "#train_et, test_et, ytrain_et, ytest_et = train_test_split(x1t, m1, shuffle=True, test_size=0.1)\n",
    "#train_nt, test_nt, ytrain_nt, ytest_nt = train_test_split(x2t, m1, shuffle=True, test_size=0.1)\n",
    "#train_zt, test_zt, ytrain_zt, ytest_zt = train_test_split(x3t, m1, shuffle=True, test_size=0.1)\n",
    "\n",
    "train_e, test_e, ytrain_e, ytest_e = train_test_split(x1, m1, shuffle=False, test_size=0.1)\n",
    "train_n, test_n, ytrain_n, ytest_n = train_test_split(x2, m1, shuffle=False, test_size=0.1)\n",
    "train_z, test_z, ytrain_z, ytest_z = train_test_split(x3, m1, shuffle=False, test_size=0.1)\n",
    "\n",
    "#train_et, test_et = train_et.reshape(len(train_et),6000,1), test_et.reshape(len(test_et),6000,1)\n",
    "#train_nt, test_nt = train_nt.reshape(len(train_nt),6000,1), test_nt.reshape(len(test_nt),6000,1)\n",
    "#train_zt, test_zt = train_zt.reshape(len(train_zt),6000,1), test_zt.reshape(len(test_zt),6000,1)\n",
    "\n",
    "\n",
    "train_e = np.reshape(train_e, (len(train_e),3001,1))\n",
    "test_e = np.reshape(test_e, (len(test_e),3001,1))\n",
    "train_n = np.reshape(train_n, (len(train_n),3001,1))\n",
    "test_n = np.reshape(test_n, (len(test_n),3001,1))\n",
    "train_z = np.reshape(train_z, (len(train_z),3001,1))\n",
    "test_z = np.reshape(test_z, (len(test_z),3001,1))\n",
    "\n",
    "#print(train_et.shape, test_et.shape, ytrain_et.shape, ytest_et.shape)\n",
    "#print(train_nt.shape, test_nt.shape, ytrain_nt.shape, ytest_nt.shape)\n",
    "#print(train_zt.shape, test_zt.shape, ytrain_zt.shape, ytest_zt.shape)\n",
    "\n",
    "print(train_e.shape, ytrain_e.shape, test_e.shape, ytest_e.shape)\n",
    "print(train_n.shape, ytrain_n.shape, test_n.shape, ytest_n.shape)\n",
    "print(train_z.shape, ytrain_z.shape, test_z.shape, ytest_z.shape)"
   ]
  },
  {
   "cell_type": "markdown",
   "id": "42bfc92e",
   "metadata": {},
   "source": [
    "# Training channel E"
   ]
  },
  {
   "cell_type": "code",
   "execution_count": null,
   "id": "9f3e17ba",
   "metadata": {},
   "outputs": [],
   "source": [
    "# Training the first channel: E\n",
    "epochs_number = 100\n",
    "bach_size = 10\n",
    "drop_rate = 0.2\n",
    "\n",
    "#strategy = tf.distribute.MirroredStrategy()\n",
    "\n",
    "#with strategy.scope():\n",
    "\n",
    "inp = Input(shape=(3001,1), dtype='float32', name='input_layer')     # Input layer\n",
    "#inp = tf.cast(inp, tf.int32)\n",
    "# Embed frequency data #\n",
    "#freq_embed = F2V(750,3001)(inp)\n",
    "#freq_embed = tf.cast(freq_embed, tf.float32)\n",
    "#print(K.get_value(e[:50]))\n",
    "#encoder = Bidirectional(LSTM(50, return_sequences=True, dropout=0.0, recurrent_dropout=0.0))(inp)    # Bi-LSTM layer\n",
    "#print(tf.shape(e))\n",
    "#e = tf.reshape(inp,(3,3001))\n",
    "awts, attn_out, con = attention1()(inp)                  # Bahdanau attention layer\n",
    "#awts = awts.numpy()\n",
    "#print(type(a))\n",
    "#attn_out = tf.reshape(attn_out,(1500,200))\n",
    "#e = tf.expand_dims(attn_out,axis=2)\n",
    "print(tf.shape(awts))\n",
    "print(tf.shape(attn_out))\n",
    "#con = tf.reshape(con,(3,1))\n",
    "#c = Conv1D(32, 3, padding = 'same')(attn_out) \n",
    "c = MaxPooling1D(10, padding='same')(attn_out)\n",
    "#c = Conv1D(16, 3, padding='same')(c)\n",
    "c = MaxPooling1D(5, padding='same')(c)\n",
    "#m2 = Flatten()(m2)\n",
    "e = Bidirectional(LSTM(10, return_sequences=False,dropout=0.0,recurrent_dropout=0.0))(c)\n",
    "\n",
    "d = Dense(1)(e)                                     # Fully connected layer\n",
    "o = Activation('relu', name='output_layer')(d)           # Activation layer\n",
    "\n",
    "model_e = Model(inputs=[inp], outputs=o)\n",
    "\n",
    "model_e.compile(optimizer='Adam', loss='Huber')\n",
    "\n",
    "lr_reducer = ReduceLROnPlateau(monitor='val_loss',         # Reduces learning rate while training\n",
    "                               factor=np.sqrt(0.1),\n",
    "                                patience= 4,\n",
    "                               min_lr=0.5e-10\n",
    "                              )\n",
    "model_e.summary()"
   ]
  },
  {
   "cell_type": "code",
   "execution_count": null,
   "id": "b123ad3c",
   "metadata": {},
   "outputs": [],
   "source": [
    "!pip install pydot\n",
    "!pip install graphviz"
   ]
  },
  {
   "cell_type": "code",
   "execution_count": null,
   "id": "abba798e",
   "metadata": {},
   "outputs": [],
   "source": [
    "import pydot\n",
    "import graphviz"
   ]
  },
  {
   "cell_type": "code",
   "execution_count": null,
   "id": "0cbd6391",
   "metadata": {
    "scrolled": true
   },
   "outputs": [],
   "source": [
    "# Plots and saves the model\n",
    "tf.keras.utils.plot_model(model_e,show_shapes=True,to_file='freq_mag.png')"
   ]
  },
  {
   "cell_type": "code",
   "execution_count": null,
   "id": "1f6a2213",
   "metadata": {},
   "outputs": [],
   "source": [
    "# Training frequency domain\n",
    "start = time.perf_counter()\n",
    "history = model_e.fit(train_e, ytrain_e, epochs=epochs_number, validation_split=0.1, batch_size=bach_size, callbacks = [lr_reducer])\n",
    "elap = time.perf_counter() - start\n",
    "print('%.3f' % elap)"
   ]
  },
  {
   "cell_type": "code",
   "execution_count": null,
   "id": "e3d4d686",
   "metadata": {},
   "outputs": [],
   "source": [
    "f1 = fq[0,:,0]\n",
    "f1 = f1.reshape(3001,1)\n",
    "f2 = fq[0,:,1].reshape(3001,1)\n",
    "f3 = fq[0,:,2].reshape(3001,1)\n",
    "\n",
    "print(f1.shape,f2.shape,f3.shape)"
   ]
  },
  {
   "cell_type": "code",
   "execution_count": null,
   "id": "181f1463",
   "metadata": {},
   "outputs": [],
   "source": [
    "# Loss Plots #\n",
    "\n",
    "%matplotlib inline\n",
    "fig = plt.figure()\n",
    "ax = fig.add_subplot(111)\n",
    "ax.plot(history.history['loss'])\n",
    "ax.plot(history.history['val_loss'], '--')\n",
    "ax.legend(['loss', 'val_loss'], loc='upper right') \n",
    "plt.ylabel('Loss')\n",
    "plt.xlabel('Epoch')\n",
    "plt.title('E Channel Learning Curve')\n",
    "plt.rcParams['figure.figsize'] = (5,5)\n",
    "plt.grid(b=True, which='major', color='#666666', linestyle='-')\n",
    "plt.show()"
   ]
  },
  {
   "cell_type": "code",
   "execution_count": null,
   "id": "e2162d37",
   "metadata": {},
   "outputs": [],
   "source": [
    "# Get attention scores\n",
    "\n",
    "\n",
    "#enc = model.layers[1]\n",
    "attention_layer = model_e.layers[1]\n",
    "#encout = enc(train_e[0:1,:])\n",
    "#xtr = xtrain[0:1,:,0]\n",
    "#xtr = tf.reshape(xtr,(3001,1))\n",
    "awts,_, _ = attention_layer(train_e[0:1,:])\n",
    "#print(tf.reduce_max(awts),tf.reduce_min(awts))\n",
    "awts = tf.reshape(awts,(3001,1))\n",
    "train1 = tf.reshape(train_e[0:1,:],(3001,1))\n",
    "sr = 100\n",
    "fny = sr / 2.0\n",
    "m = np.linspace(0,fny,len(awts))\n",
    "dfe = pd.DataFrame(list(zip(train1.numpy(),m,awts.numpy(),np.repeat(ytrain_e[0],3001))))\n",
    "dfe.columns = ['Amplitudes in Frequency Domain','Frequency [Hz]','Attention Scores','Magnitude']\n",
    "print(dfe.head)\n",
    "print(len(dfe))\n",
    "#print(tf.shape(awts))\n",
    "#v = yz[:1]\n",
    "#v = tf.reshape(v,(3001,1))\n",
    "#av = tf.concat((awts,train1),axis=1)\n",
    "#print(tf.shape(av))\n",
    "#merged = tf.stack((awts,train1),axis=1)\n",
    "#print(tf.shape(merged))\n",
    "#fig, ax = plt.subplots(figsize=(10,10))\n",
    "#fig, ax = plt.subplots(ncols=2, gridspec_kw=dict(width_ratios=[5,0.5]))\n",
    "#title = 'Attention Heatmap'\n",
    "#plt.title(title,fontsize=15)\n",
    "#plt.setp(ax.get_xticklabels(), visible=False)\n",
    "#ttl = ax.title\n",
    "#ax.axis('off')\n",
    "#ttl.set_position([0.5,1.05])\n",
    "#sns.heatmap(awts[:,:])#, annot=True, cbar=True)#, ax=axs[1])\n",
    "#fig.colorbar(axs[1].collections[0], cax=axs[1])\n",
    "#plt.show()"
   ]
  },
  {
   "cell_type": "code",
   "execution_count": null,
   "id": "abeb7a62",
   "metadata": {},
   "outputs": [],
   "source": [
    "dfe['Amplitudes in Frequency Domain'] = dfe['Amplitudes in Frequency Domain'].astype(float)\n",
    "dfe['Attention Scores'] = dfe['Attention Scores'].astype(float)\n",
    "#dfe['Attention Scores'].sum()\n",
    "dfe.dtypes"
   ]
  },
  {
   "cell_type": "code",
   "execution_count": null,
   "id": "c2936764",
   "metadata": {},
   "outputs": [],
   "source": [
    "dfe.loc[dfe['Attention Scores'].idxmin()]"
   ]
  },
  {
   "cell_type": "code",
   "execution_count": null,
   "id": "0bd12bc0",
   "metadata": {},
   "outputs": [],
   "source": [
    "dfe.loc[dfe['Attention Scores'].idxmax()]"
   ]
  },
  {
   "cell_type": "code",
   "execution_count": null,
   "id": "529fd872",
   "metadata": {},
   "outputs": [],
   "source": [
    "# Spearman\n",
    "\n",
    "from scipy.stats import spearmanr\n",
    "\n",
    "pred_e = model_e.predict(train_e)\n",
    "\n",
    "r = spearmanr(ytrain_e,pred_e)\n",
    "print(r)"
   ]
  },
  {
   "cell_type": "code",
   "execution_count": null,
   "id": "6549fb17",
   "metadata": {},
   "outputs": [],
   "source": [
    "# Uncertainty Quantification #\n",
    "%run uq_epistemic.py"
   ]
  },
  {
   "cell_type": "code",
   "execution_count": null,
   "id": "f321d382",
   "metadata": {},
   "outputs": [],
   "source": [
    "mc_num = 100\n",
    "ep_e = uq_ec(train_e,model_e,bach_size,mc_num)"
   ]
  },
  {
   "cell_type": "code",
   "execution_count": null,
   "id": "20c551c8",
   "metadata": {},
   "outputs": [],
   "source": [
    "ep_e = np.reshape(ep_e,(12600,1))\n",
    "print(ep_e.shape)"
   ]
  },
  {
   "cell_type": "code",
   "execution_count": null,
   "id": "5731df58",
   "metadata": {},
   "outputs": [],
   "source": [
    "# Visualise\n",
    "\n",
    "plt.figure()\n",
    "plt.plot(ytrain_e, ep_e, 'ro', alpha=0.4)\n",
    "plt.xlabel('Magnitude')\n",
    "plt.ylabel('Epistemic Uncertainty')\n",
    "plt.title('Epistemic Uncertainty: Channel E')\n",
    "plt.show() "
   ]
  },
  {
   "cell_type": "code",
   "execution_count": null,
   "id": "ddcd301e",
   "metadata": {},
   "outputs": [],
   "source": [
    "# Evaluate\n",
    "\n",
    "eva = model_e.evaluate(test_e, ytest_e)\n",
    "print('test loss: ',eva)\n",
    "\n",
    "predic_e = model_e.predict(test_e)\n",
    "\n",
    "pr = spearmanr(ytest_e,predic_e)\n",
    "print(pr)"
   ]
  },
  {
   "cell_type": "code",
   "execution_count": null,
   "id": "b8eb5b75",
   "metadata": {},
   "outputs": [],
   "source": [
    "# Measured Vs. Predicted\n",
    "\n",
    "fig, ax = plt.subplots()\n",
    "ax.scatter(ytest_e, predic_e, alpha = 0.4, facecolors='none', edgecolors='r')\n",
    "ax.plot([ytest_e.min(), ytest_e.max()], [ytest_e.min(), ytest_e.max()], 'k--', alpha=0.4, lw=2)\n",
    "ax.set_xlabel('Measured')\n",
    "ax.set_ylabel('Predicted')\n",
    "ax.set_title('Magnitude (Measured Vs. Predicted): Channel E')"
   ]
  },
  {
   "cell_type": "markdown",
   "id": "277468be",
   "metadata": {},
   "source": [
    "# Training channel N"
   ]
  },
  {
   "cell_type": "code",
   "execution_count": null,
   "id": "8f67586d",
   "metadata": {},
   "outputs": [],
   "source": [
    "# Training the second channel: N\n",
    "epochs_number = 100\n",
    "bach_size = 10\n",
    "drop_rate = 0.2\n",
    "\n",
    "#strategy = tf.distribute.MirroredStrategy()\n",
    "\n",
    "#with strategy.scope():\n",
    "\n",
    "inp = Input(shape=(3001,1), dtype='float32', name='input_layer') \n",
    "#inp = tf.cast(inp, tf.int32)\n",
    "# Embed frequency data #\n",
    "#freq_embed = F2V(750,3001)(inp)\n",
    "#freq_embed = tf.cast(freq_embed, tf.float32)\n",
    "#print(K.get_value(e[:50]))\n",
    "#encoder = Bidirectional(LSTM(50, return_sequences=True, dropout=0.0, recurrent_dropout=0.0))(inp)\n",
    "#print(tf.shape(e))\n",
    "#e = tf.reshape(e,(1500,200))\n",
    "awts, attn_out, con = attention1()(inp)\n",
    "#awts = awts.numpy()\n",
    "#print(type(a))\n",
    "#attn_out = tf.reshape(attn_out,(1500,200))\n",
    "#e = tf.expand_dims(attn_out,axis=2)\n",
    "print(tf.shape(attn_out))\n",
    "\n",
    "#c1 = Conv1D(64,20,padding='same')(attn_out)\n",
    "m1 = MaxPooling1D(10,padding='same')(attn_out)\n",
    "#c2 = Conv1D(64,20,padding='same')(m1)\n",
    "m2 = MaxPooling1D(5,padding='same')(m1)\n",
    "\n",
    "e = Bidirectional(LSTM(10,return_sequences=False,dropout=0.0,recurrent_dropout=0.0))(m2)\n",
    "\n",
    "d = Dense(1)(e)\n",
    "o = Activation('relu', name='output_layer')(d)\n",
    "\n",
    "model_n = Model(inputs=[inp], outputs=o)\n",
    "\n",
    "model_n.compile(optimizer='Adam', loss='Huber')\n",
    "\n",
    "lr_reducer = ReduceLROnPlateau(monitor='val_loss',\n",
    "                               factor=np.sqrt(0.1),\n",
    "                                patience= 4,\n",
    "                               min_lr=0.5e-10\n",
    "                              )\n",
    "model_n.summary()"
   ]
  },
  {
   "cell_type": "code",
   "execution_count": null,
   "id": "2701b9ee",
   "metadata": {},
   "outputs": [],
   "source": [
    "start = time.perf_counter()\n",
    "history1 = model_n.fit(train_n, ytrain_n, epochs=epochs_number, validation_split=0.1, batch_size=bach_size, callbacks = [lr_reducer])\n",
    "elap = time.perf_counter() - start\n",
    "print('%.3f' % elap)"
   ]
  },
  {
   "cell_type": "code",
   "execution_count": null,
   "id": "d5cb8e7a",
   "metadata": {},
   "outputs": [],
   "source": [
    "# Get attention scores\n",
    "\n",
    "\n",
    "#enc = model.layers[1]\n",
    "attention_layer = model_e.layers[1]\n",
    "#encout = enc(train_e[0:1,:])\n",
    "awts1, _, _ = attention_layer(train_n[0:1,:])\n",
    "#print(tf.reduce_max(awts),tf.reduce_min(awts))\n",
    "awts1 = tf.reshape(awts1,(3001,1))\n",
    "train2 = tf.reshape(train_n[0:1],(3001,1))\n",
    "sr = 100\n",
    "fny = sr / 2.0\n",
    "m = np.linspace(0,fny,len(awts1))\n",
    "dfn = pd.DataFrame(list(zip(train2.numpy(),m,awts1.numpy(),np.repeat(ytrain_n[0],3001))))\n",
    "dfn.columns = ['Amplitudes in Frequency Domain','Frequency [Hz]','Attention Scores','Magnitude']\n",
    "print(dfn.head)\n",
    "print(len(dfn))\n",
    "#print(tf.shape(awts))\n",
    "#v = yz[:1]\n",
    "#v = tf.reshape(v,(3001,1))\n",
    "#av = tf.concat((awts,train1),axis=1)\n",
    "#print(tf.shape(av))\n",
    "#merged = tf.stack((awts,train1),axis=1)\n",
    "#print(tf.shape(merged))\n",
    "#fig, ax = plt.subplots(figsize=(10,10))\n",
    "#fig, ax = plt.subplots(ncols=2, gridspec_kw=dict(width_ratios=[5,0.5]))\n",
    "#title = 'Attention Heatmap'\n",
    "#plt.title(title,fontsize=15)\n",
    "#plt.setp(ax.get_xticklabels(), visible=False)\n",
    "#ttl = ax.title\n",
    "#ax.axis('off')\n",
    "#ttl.set_position([0.5,1.05])\n",
    "#sns.heatmap(awts[:,:])#, annot=True, cbar=True)#, ax=axs[1])\n",
    "#fig.colorbar(axs[1].collections[0], cax=axs[1])\n",
    "#plt.show()"
   ]
  },
  {
   "cell_type": "code",
   "execution_count": null,
   "id": "e6135b11",
   "metadata": {},
   "outputs": [],
   "source": [
    "dfn['Amplitudes in Frequency Domain'] = dfn['Amplitudes in Frequency Domain'].astype(float)\n",
    "dfn['Attention Scores'] = dfn['Attention Scores'].astype(float)\n",
    "#dfe['Attention Scores'].sum()\n",
    "dfn.dtypes"
   ]
  },
  {
   "cell_type": "code",
   "execution_count": null,
   "id": "d7171be7",
   "metadata": {},
   "outputs": [],
   "source": [
    "dfn.loc[dfn['Attention Scores'].idxmin()]"
   ]
  },
  {
   "cell_type": "code",
   "execution_count": null,
   "id": "ed8b3228",
   "metadata": {},
   "outputs": [],
   "source": [
    "dfn.loc[dfn['Attention Scores'].idxmax()]"
   ]
  },
  {
   "cell_type": "code",
   "execution_count": null,
   "id": "59ecafc1",
   "metadata": {},
   "outputs": [],
   "source": [
    "# Save model\n",
    "\n",
    "model_n.save('saved_models/Model_N')"
   ]
  },
  {
   "cell_type": "code",
   "execution_count": null,
   "id": "b3e8032b",
   "metadata": {},
   "outputs": [],
   "source": [
    "# Loss Plots #\n",
    "\n",
    "%matplotlib inline\n",
    "fig = plt.figure()\n",
    "ax = fig.add_subplot(111)\n",
    "ax.plot(history1.history['loss'])\n",
    "ax.plot(history1.history['val_loss'], '--')\n",
    "ax.legend(['loss', 'val_loss'], loc='upper right') \n",
    "plt.ylabel('Loss')\n",
    "plt.xlabel('Epoch')\n",
    "plt.title('N Channel Learning Curve')\n",
    "plt.rcParams['figure.figsize'] = (5,5)\n",
    "plt.grid(b=True, which='major', color='#666666', linestyle='-')\n",
    "plt.show()"
   ]
  },
  {
   "cell_type": "code",
   "execution_count": null,
   "id": "e44d851a",
   "metadata": {},
   "outputs": [],
   "source": [
    "# Spearman\n",
    "\n",
    "from scipy.stats import spearmanr\n",
    "\n",
    "pred_n = model_e.predict(train_n)\n",
    "\n",
    "r = spearmanr(ytrain_n,pred_n)\n",
    "print(r)"
   ]
  },
  {
   "cell_type": "code",
   "execution_count": null,
   "id": "fe74fefe",
   "metadata": {},
   "outputs": [],
   "source": [
    "# Uncertainty Quantification #\n",
    "\n",
    "mc_num = 100\n",
    "ep_n = uq_ec(train_n,model_e,bach_size,mc_num)\n",
    "ep_n = np.reshape(ep_n,(12600,1))\n",
    "print(ep_n.shape)"
   ]
  },
  {
   "cell_type": "code",
   "execution_count": null,
   "id": "be0cee56",
   "metadata": {},
   "outputs": [],
   "source": [
    "# Visualise\n",
    "\n",
    "plt.figure()\n",
    "plt.plot(ytrain_n, ep_n, 'bo', alpha=0.4)\n",
    "plt.xlabel('Magnitude')\n",
    "plt.ylabel('Epistemic Uncertainty')\n",
    "plt.title('Epistemic Uncertainty: Channel N')\n",
    "plt.show() "
   ]
  },
  {
   "cell_type": "code",
   "execution_count": null,
   "id": "49872894",
   "metadata": {},
   "outputs": [],
   "source": [
    "# Evaluate\n",
    "\n",
    "eva1 = model_e.evaluate(test_n, ytest_n)\n",
    "print('test loss: ',eva1)\n",
    "\n",
    "predic1 = model_e.predict(test_n)\n",
    "\n",
    "nr = spearmanr(ytest_n,predic1)\n",
    "\n",
    "print(nr)"
   ]
  },
  {
   "cell_type": "code",
   "execution_count": null,
   "id": "df8a086e",
   "metadata": {},
   "outputs": [],
   "source": [
    "# Measured Vs. Predicted\n",
    "\n",
    "fig, ax = plt.subplots()\n",
    "ax.scatter(ytest_n, predic1, alpha = 0.4, facecolors='none', edgecolors='b')\n",
    "ax.plot([ytest_n.min(), ytest_n.max()], [ytest_n.min(), ytest_n.max()], 'k--', alpha=0.4, lw=2)\n",
    "ax.set_xlabel('Measured')\n",
    "ax.set_ylabel('Predicted')\n",
    "ax.set_title('Magnitude (Measured Vs. Predicted): Channel N')"
   ]
  },
  {
   "cell_type": "markdown",
   "id": "c654c0b1",
   "metadata": {},
   "source": [
    "# Training channel Z"
   ]
  },
  {
   "cell_type": "code",
   "execution_count": null,
   "id": "c4290ef0",
   "metadata": {},
   "outputs": [],
   "source": [
    "# Training the third channel: Z\n",
    "epochs_number = 100\n",
    "bach_size = 10\n",
    "drop_rate = 0.2\n",
    "\n",
    "#strategy = tf.distribute.MirroredStrategy()\n",
    "\n",
    "#with strategy.scope():\n",
    "\n",
    "inp = Input(shape=(3001,1), dtype='float32', name='input_layer') \n",
    "#inp = tf.cast(inp, tf.int32)\n",
    "# Embed frequency data #\n",
    "#freq_embed = F2V(750,3001)(inp)\n",
    "#freq_embed = tf.cast(freq_embed, tf.float32)\n",
    "#print(K.get_value(e[:50]))\n",
    "#encoder = Bidirectional(LSTM(50, return_sequences=True, dropout=0.0, recurrent_dropout=0.0))(inp)\n",
    "#print(tf.shape(e))\n",
    "#e = tf.reshape(e,(1500,200))\n",
    "awts, attn_out, con = attention1()(inp)\n",
    "#awts = awts.numpy()\n",
    "#print(type(a))\n",
    "#attn_out = tf.reshape(attn_out,(1500,200))\n",
    "#e = tf.expand_dims(attn_out,axis=2)\n",
    "print(tf.shape(attn_out))\n",
    "\n",
    "#c1 = Conv1D(64,20,padding='same')(attn_out)\n",
    "m1 = MaxPooling1D(10,padding='same')(attn_out)\n",
    "#c2 = Conv1D(64,20,padding='same')(m1)\n",
    "m2 = MaxPooling1D(5,padding='same')(m1)\n",
    "\n",
    "e = Bidirectional(LSTM(10,return_sequences=False,dropout=0.0,recurrent_dropout=0.0))(m2)\n",
    "\n",
    "d = Dense(1)(e)\n",
    "o = Activation('relu', name='output_layer')(d)\n",
    "\n",
    "model_z = Model(inputs=[inp], outputs=o)\n",
    "\n",
    "model_z.compile(optimizer='Adam', loss='Huber')\n",
    "\n",
    "lr_reducer = ReduceLROnPlateau(monitor='val_loss',\n",
    "                               factor=np.sqrt(0.1),\n",
    "                                patience= 4,\n",
    "                               min_lr=0.5e-10\n",
    "                              )\n",
    "model_z.summary()"
   ]
  },
  {
   "cell_type": "code",
   "execution_count": null,
   "id": "4521cf45",
   "metadata": {
    "scrolled": false
   },
   "outputs": [],
   "source": [
    "start = time.perf_counter()\n",
    "history2 = model_z.fit(train_z, ytrain_z, epochs=epochs_number, validation_split=0.1, batch_size=bach_size, callbacks = [lr_reducer])\n",
    "elap = time.perf_counter() - start\n",
    "print('%.3f' % elap)"
   ]
  },
  {
   "cell_type": "code",
   "execution_count": null,
   "id": "8036acf9",
   "metadata": {},
   "outputs": [],
   "source": [
    "# Get attention scores\n",
    "\n",
    "\n",
    "#enc = model.layers[1]\n",
    "attention_layer = model_e.layers[1]\n",
    "#encout = enc(train_e[0:1,:])\n",
    "awts2, _, _ = attention_layer(train_z[0:1,:])\n",
    "#print(tf.reduce_max(awts),tf.reduce_min(awts))\n",
    "awts2 = tf.reshape(awts2,(3001,1))\n",
    "train3 = tf.reshape(train_z[0:1],(3001,1))\n",
    "sr = 100\n",
    "fny = sr / 2.0\n",
    "m = np.linspace(0,fny,len(awts2))\n",
    "dfz = pd.DataFrame(list(zip(train3.numpy(),m,awts2.numpy(),np.repeat(ytrain_z[0],3001))))\n",
    "dfz.columns = ['Amplitudes in Frequency Domain','Frequency [Hz]','Attention Scores','Magnitude']\n",
    "print(dfz.head)\n",
    "print(len(dfz))\n",
    "#print(tf.shape(awts))\n",
    "#v = yz[:1]\n",
    "#v = tf.reshape(v,(3001,1))\n",
    "#av = tf.concat((awts,train1),axis=1)\n",
    "#print(tf.shape(av))\n",
    "#merged = tf.stack((awts,train1),axis=1)\n",
    "#print(tf.shape(merged))\n",
    "#fig, ax = plt.subplots(figsize=(10,10))\n",
    "#fig, ax = plt.subplots(ncols=2, gridspec_kw=dict(width_ratios=[5,0.5]))\n",
    "#title = 'Attention Heatmap'\n",
    "#plt.title(title,fontsize=15)\n",
    "#plt.setp(ax.get_xticklabels(), visible=False)\n",
    "#ttl = ax.title\n",
    "#ax.axis('off')\n",
    "#ttl.set_position([0.5,1.05])\n",
    "#sns.heatmap(awts[:,:])#, annot=True, cbar=True)#, ax=axs[1])\n",
    "#fig.colorbar(axs[1].collections[0], cax=axs[1])\n",
    "#plt.show()"
   ]
  },
  {
   "cell_type": "code",
   "execution_count": null,
   "id": "b5ba8dd9",
   "metadata": {},
   "outputs": [],
   "source": [
    "dfz['Amplitudes in Frequency Domain'] = dfz['Amplitudes in Frequency Domain'].astype(float)\n",
    "dfz['Attention Scores'] = dfz['Attention Scores'].astype(float)\n",
    "#dfe['Attention Scores'].sum()\n",
    "dfz.dtypes"
   ]
  },
  {
   "cell_type": "code",
   "execution_count": null,
   "id": "1fff2495",
   "metadata": {},
   "outputs": [],
   "source": [
    "dfz['Attention Scores'].sum()"
   ]
  },
  {
   "cell_type": "code",
   "execution_count": null,
   "id": "1933d0b3",
   "metadata": {},
   "outputs": [],
   "source": [
    "dfz.loc[dfz['Attention Scores'].idxmax()]"
   ]
  },
  {
   "cell_type": "code",
   "execution_count": null,
   "id": "47cd99af",
   "metadata": {},
   "outputs": [],
   "source": [
    "dfz.loc[dfz['Attention Scores'].idxmin()]"
   ]
  },
  {
   "cell_type": "code",
   "execution_count": null,
   "id": "f6a5d1e2",
   "metadata": {},
   "outputs": [],
   "source": [
    "# Save model\n",
    "\n",
    "model_z.save('saved_models/Model_Z')"
   ]
  },
  {
   "cell_type": "code",
   "execution_count": null,
   "id": "c87913d3",
   "metadata": {},
   "outputs": [],
   "source": [
    "# Loss Plots #\n",
    "\n",
    "%matplotlib inline\n",
    "fig = plt.figure()\n",
    "ax = fig.add_subplot(111)\n",
    "ax.plot(history2.history['loss'])\n",
    "ax.plot(history2.history['val_loss'], '--')\n",
    "ax.legend(['loss', 'val_loss'], loc='upper right') \n",
    "plt.ylabel('Loss')\n",
    "plt.xlabel('Epoch')\n",
    "plt.title('Z Channel Learning Curve')\n",
    "plt.rcParams['figure.figsize'] = (5,5)\n",
    "plt.grid(b=True, which='major', color='#666666', linestyle='-')\n",
    "plt.show()"
   ]
  },
  {
   "cell_type": "code",
   "execution_count": null,
   "id": "98de11af",
   "metadata": {},
   "outputs": [],
   "source": [
    "# Spearman\n",
    "\n",
    "from scipy.stats import spearmanr\n",
    "\n",
    "pred_z = model_e.predict(train_z)\n",
    "\n",
    "r = spearmanr(ytrain_z,pred_z)\n",
    "print(r)"
   ]
  },
  {
   "cell_type": "code",
   "execution_count": null,
   "id": "8ec54074",
   "metadata": {},
   "outputs": [],
   "source": [
    "# Uncertainty Quantification #\n",
    "\n",
    "mc_num = 100\n",
    "ep_z = uq_ec(train_z,model_e,bach_size,mc_num)"
   ]
  },
  {
   "cell_type": "code",
   "execution_count": null,
   "id": "fbca1dd5",
   "metadata": {},
   "outputs": [],
   "source": [
    "ep_z = np.reshape(ep_z,(12600,1))\n",
    "print(ep_z.shape)"
   ]
  },
  {
   "cell_type": "code",
   "execution_count": null,
   "id": "36feb15d",
   "metadata": {},
   "outputs": [],
   "source": [
    "# Visualise\n",
    "\n",
    "plt.figure()\n",
    "plt.plot(ytrain_z, ep_z, 'g-', alpha=0.4)\n",
    "plt.xlabel('Magnitude')\n",
    "plt.ylabel('Epistemic Uncertainty')\n",
    "plt.title('Epistemic Uncertainty: Channel Z')\n",
    "plt.show() "
   ]
  },
  {
   "cell_type": "code",
   "execution_count": null,
   "id": "8ac7ea42",
   "metadata": {},
   "outputs": [],
   "source": [
    "# Evaluate\n",
    "\n",
    "eva2 = model_e.evaluate(test_z, ytest_z)\n",
    "print('test loss: ',eva2)\n",
    "\n",
    "predic2 = model_e.predict(test_z)\n",
    "\n",
    "zr = spearmanr(ytest_z,predic2)\n",
    "\n",
    "print(zr)"
   ]
  },
  {
   "cell_type": "code",
   "execution_count": null,
   "id": "22662e09",
   "metadata": {},
   "outputs": [],
   "source": [
    "# Measured Vs. Predicted\n",
    "\n",
    "fig, ax = plt.subplots()\n",
    "ax.scatter(ytest_z, predic2, alpha = 0.4, facecolors='none', edgecolors='g')\n",
    "ax.plot([ytest_z.min(), ytest_z.max()], [ytest_z.min(), ytest_z.max()], 'k--', alpha=0.4, lw=2)\n",
    "ax.set_xlabel('Measured')\n",
    "ax.set_ylabel('Predicted')\n",
    "ax.set_title('Magnitude (Measured Vs. Predicted): Channel Z')"
   ]
  },
  {
   "cell_type": "code",
   "execution_count": null,
   "id": "8a6a633e",
   "metadata": {},
   "outputs": [],
   "source": []
  }
 ],
 "metadata": {
  "kernelspec": {
   "display_name": "Python 3 (ipykernel)",
   "language": "python",
   "name": "python3"
  },
  "language_info": {
   "codemirror_mode": {
    "name": "ipython",
    "version": 3
   },
   "file_extension": ".py",
   "mimetype": "text/x-python",
   "name": "python",
   "nbconvert_exporter": "python",
   "pygments_lexer": "ipython3",
   "version": "3.9.7"
  }
 },
 "nbformat": 4,
 "nbformat_minor": 5
}
